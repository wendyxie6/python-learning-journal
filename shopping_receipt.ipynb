{
  "nbformat": 4,
  "nbformat_minor": 0,
  "metadata": {
    "colab": {
      "provenance": [],
      "authorship_tag": "ABX9TyNAoXcU7gh/HhEBabjTVIE0",
      "include_colab_link": true
    },
    "kernelspec": {
      "name": "python3",
      "display_name": "Python 3"
    },
    "language_info": {
      "name": "python"
    }
  },
  "cells": [
    {
      "cell_type": "markdown",
      "metadata": {
        "id": "view-in-github",
        "colab_type": "text"
      },
      "source": [
        "<a href=\"https://colab.research.google.com/github/wendyxie6/python-learning-journal/blob/main/shopping_receipt.ipynb\" target=\"_parent\"><img src=\"https://colab.research.google.com/assets/colab-badge.svg\" alt=\"Open In Colab\"/></a>"
      ]
    },
    {
      "cell_type": "code",
      "execution_count": 13,
      "metadata": {
        "colab": {
          "base_uri": "https://localhost:8080/"
        },
        "id": "4H_RgkF0-rly",
        "outputId": "550aca3d-7472-4d0d-fc88-220784037341"
      },
      "outputs": [
        {
          "output_type": "stream",
          "name": "stdout",
          "text": [
            "Enter the item name: Carrot\n",
            "Enter the purchase quantity: 2\n",
            "Enter the price per item: 2.99\n",
            "Enter the sales tax: 11.2\n",
            "Item_name:  Carrot\n",
            "Quantity:  2\n",
            "Sales tax: 11.2 %\n",
            "Total paid: $ 6.65\n"
          ]
        }
      ],
      "source": [
        "item_name = input(\"Enter the item name: \")\n",
        "qty = int(input(\"Enter the purchase quantity: \"))\n",
        "price = float(input(\"Enter the price per item: \"))\n",
        "tax = float(input(\"Enter the sales tax: \"))\n",
        "\n",
        "total_paid = qty * price + qty * price * tax/100\n",
        "\n",
        "total_paid = round(total_paid, 2)\n",
        "\n",
        "print(\"Item_name: \", item_name)\n",
        "print(\"Quantity: \", qty)\n",
        "print(\"Sales tax:\", tax, \"%\")\n",
        "print(\"Total paid: $\", total_paid)\n",
        "\n"
      ]
    },
    {
      "cell_type": "code",
      "source": [],
      "metadata": {
        "id": "Lh5yPzZIBCS_"
      },
      "execution_count": null,
      "outputs": []
    }
  ]
}