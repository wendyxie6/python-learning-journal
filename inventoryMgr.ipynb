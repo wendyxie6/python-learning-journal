{
  "nbformat": 4,
  "nbformat_minor": 0,
  "metadata": {
    "colab": {
      "provenance": [],
      "authorship_tag": "ABX9TyP9H3v2t7u9FuI0ZrBhioGy",
      "include_colab_link": true
    },
    "kernelspec": {
      "name": "python3",
      "display_name": "Python 3"
    },
    "language_info": {
      "name": "python"
    }
  },
  "cells": [
    {
      "cell_type": "markdown",
      "metadata": {
        "id": "view-in-github",
        "colab_type": "text"
      },
      "source": [
        "<a href=\"https://colab.research.google.com/github/wendyxie6/python-learning-journal/blob/main/inventoryMgr.ipynb\" target=\"_parent\"><img src=\"https://colab.research.google.com/assets/colab-badge.svg\" alt=\"Open In Colab\"/></a>"
      ]
    },
    {
      "cell_type": "code",
      "execution_count": 39,
      "metadata": {
        "colab": {
          "base_uri": "https://localhost:8080/"
        },
        "id": "Tl12PPclPh-g",
        "outputId": "493fbf84-81a0-459c-e9a3-4d7ccc436d88"
      },
      "outputs": [
        {
          "output_type": "stream",
          "name": "stdout",
          "text": [
            "Enter your choice: Search/Update/Add/Remove/Count/Lists/Exit: count\n",
            "Alert!! This item has low stock: Scissors, Quantity:  15\n",
            "Enter your choice: Search/Update/Add/Remove/Count/Lists/Exit: exit\n",
            "{'Markers': ' 35', 'Notebooks': ' 40', 'Scissors': ' 15', 'Glue Sticks': ' 25', 'Napkins': ' 20'}\n"
          ]
        }
      ],
      "source": [
        "from ast import Break\n",
        "def getInventory():\n",
        "    inventory = {}\n",
        "    file_path = \"inventory_lists.txt\"\n",
        "\n",
        "    # Open inventory file and read in all data\n",
        "    file = open(file_path,\"r\")\n",
        "    lists = file.readline()\n",
        "\n",
        "    # Assign items and quantities into dictionary\n",
        "    while lists:\n",
        "        line = lists.strip().split(\",\")\n",
        "\n",
        "        inventory[line[0]] = line[1]\n",
        "\n",
        "        lists = file.readline()\n",
        "\n",
        "    file.close()\n",
        "\n",
        "    return inventory\n",
        "\n",
        "def searchInventory(search_item, inv_list):\n",
        "    search_flag = False\n",
        "\n",
        "    for key in inv_list:\n",
        "        if key.lower() == search_item.lower():\n",
        "            search_flag = True\n",
        "            print(f\"Found item: {key}, Quantity: {inv_list[key]}\")\n",
        "\n",
        "\n",
        "    if search_flag == False:\n",
        "        print(\"Item not found\")\n",
        "\n",
        "def updateInventory():\n",
        "    return True\n",
        "\n",
        "def addInventory():\n",
        "    return True\n",
        "\n",
        "def removeInventory():\n",
        "    return True\n",
        "\n",
        "def countInventory(inv_list):\n",
        "    low_stock = False\n",
        "\n",
        "    for key in inv_list:\n",
        "        if int(inv_list[key]) < 20:\n",
        "            print(f\"Alert!! This item has low stock: {key}, Quantity: {inv_list[key]}\")\n",
        "            low_stock = True\n",
        "\n",
        "    if (low_stock == False):\n",
        "        print(\"No low stock inventory!\")\n",
        "\n",
        "def displayInventory(inv_list):\n",
        "    print(inv_list)\n",
        "\n",
        "# Get inventory lists\n",
        "inventory_lists = getInventory()\n",
        "\n",
        "while True:\n",
        "    choice = input(\"Enter your choice: Search/Update/Add/Remove/Count/Lists/Exit: \").strip().lower()\n",
        "\n",
        "    if(choice == \"search\" or choice == \"update\" or choice == \"add\" or choice == \"remove\" or choice == \"count\" or choice == \"lists\" or choice == \"exit\"):\n",
        "        match choice:\n",
        "            case \"search\":\n",
        "                item = input(\"Enter the item you want to search: \")\n",
        "                searchInventory(item, inventory_lists)\n",
        "\n",
        "        #case \"update\":\n",
        "        #case \"add\":\n",
        "        #case \"remove\":\n",
        "            case \"count\":\n",
        "                countInventory(inventory_lists)\n",
        "            case \"lists\":\n",
        "                displayInventory(inventory_lists)\n",
        "            case \"exit\":\n",
        "                break\n",
        "    else:\n",
        "        print(\"Enter correct choise from the menu!\")\n",
        "\n",
        "\n",
        "\n",
        "displayInventory(inventory_lists)\n",
        "\n",
        "\n",
        "\n",
        "\n",
        "\n"
      ]
    }
  ]
}