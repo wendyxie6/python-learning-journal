{
  "nbformat": 4,
  "nbformat_minor": 0,
  "metadata": {
    "colab": {
      "provenance": [],
      "authorship_tag": "ABX9TyOlR0+BdPcSdRgVSOeB0TqQ",
      "include_colab_link": true
    },
    "kernelspec": {
      "name": "python3",
      "display_name": "Python 3"
    },
    "language_info": {
      "name": "python"
    }
  },
  "cells": [
    {
      "cell_type": "markdown",
      "metadata": {
        "id": "view-in-github",
        "colab_type": "text"
      },
      "source": [
        "<a href=\"https://colab.research.google.com/github/wendyxie6/python-learning-journal/blob/main/inventoryMgr.ipynb\" target=\"_parent\"><img src=\"https://colab.research.google.com/assets/colab-badge.svg\" alt=\"Open In Colab\"/></a>"
      ]
    },
    {
      "cell_type": "code",
      "execution_count": 22,
      "metadata": {
        "colab": {
          "base_uri": "https://localhost:8080/"
        },
        "id": "Tl12PPclPh-g",
        "outputId": "791bb3ed-1439-49a6-b647-66694001ed33"
      },
      "outputs": [
        {
          "output_type": "stream",
          "name": "stdout",
          "text": [
            "{'Markers': ' 35', 'Notebooks': ' 40', 'Scissors': ' 15', 'Glue Sticks': ' 25', 'Napkins': ' 20'}\n"
          ]
        }
      ],
      "source": [
        "from ast import Break\n",
        "def getInventory():\n",
        "    inventory = {}\n",
        "    file_path = \"inventory_lists.txt\"\n",
        "\n",
        "    # Open inventory file and read in all data\n",
        "    file = open(file_path,\"r\")\n",
        "    lists = file.readline()\n",
        "\n",
        "    # Assign items and quantities into dictionary\n",
        "    while lists:\n",
        "        line = lists.strip().split(\",\")\n",
        "\n",
        "        inventory[line[0]] = line[1]\n",
        "\n",
        "        lists = file.readline()\n",
        "\n",
        "    file.close()\n",
        "\n",
        "    return inventory\n",
        "\n",
        "def searchInventory(search_item, inv_list):\n",
        "    item_info = []\n",
        "\n",
        "    if search_item in inv_list:\n",
        "        return True\n",
        "    else:\n",
        "        return False\n",
        "\n",
        "def updateInventory():\n",
        "    return True\n",
        "\n",
        "def addInventory():\n",
        "    return True\n",
        "\n",
        "def removeInventory():\n",
        "    return True\n",
        "\n",
        "def countInventory():\n",
        "    count = 0\n",
        "    return count\n",
        "\n",
        "# Get inventory lists\n",
        "inventory_lists = getInventory()\n",
        "\n",
        "while True:\n",
        "    choice = input(\"Enter your choice: Search/Update/Add/Remove/Count/Exit: \")\n",
        "\n",
        "    match choice.lower():\n",
        "        case \"Search\":\n",
        "            searchInventory()\n",
        "        case \"Update\":\n",
        "        case \"Add\":\n",
        "        case \"Remove\":\n",
        "        case \"Count\":\n",
        "\n",
        "        case \"Exit\":\n",
        "            break\n",
        "\n",
        "print(inventory_lists)\n",
        "\n",
        "\n",
        "\n",
        "\n",
        "\n",
        "\n",
        "\n"
      ]
    }
  ]
}