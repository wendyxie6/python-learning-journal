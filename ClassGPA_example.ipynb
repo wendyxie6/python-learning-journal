{
  "nbformat": 4,
  "nbformat_minor": 0,
  "metadata": {
    "colab": {
      "provenance": [],
      "authorship_tag": "ABX9TyPGRwhtEbLJxcrnpGPz+XXv",
      "include_colab_link": true
    },
    "kernelspec": {
      "name": "python3",
      "display_name": "Python 3"
    },
    "language_info": {
      "name": "python"
    }
  },
  "cells": [
    {
      "cell_type": "markdown",
      "metadata": {
        "id": "view-in-github",
        "colab_type": "text"
      },
      "source": [
        "<a href=\"https://colab.research.google.com/github/wendyxie6/python-learning-journal/blob/main/ClassGPA_example.ipynb\" target=\"_parent\"><img src=\"https://colab.research.google.com/assets/colab-badge.svg\" alt=\"Open In Colab\"/></a>"
      ]
    },
    {
      "cell_type": "code",
      "execution_count": 9,
      "metadata": {
        "id": "AG3X3EGxIckM"
      },
      "outputs": [],
      "source": [
        "class Student:\n",
        "    def __init__(selt, name, id, grades):\n",
        "        self.name = name\n",
        "        self.id = id\n",
        "        self.grades = grades\n",
        "\n",
        "    def getGPA(self):\n",
        "        gpaDict = {\"A\":4, \"B\":3, \"C\":2, \"D\":1, \"F\":0}\n",
        "        gpaSum = 0\n",
        "\n",
        "        for grade in self.grades:\n",
        "            gpaSum += gpaDict[grade]\n",
        "\n",
        "        return gpaSum/len(self.grades)\n",
        "\n",
        "myClass = []\n",
        "\n",
        "while True:\n",
        "    name = input(\"name:\")\n",
        "    if = input(\"id\")\n",
        "    grades = []\n",
        "    gradeDone = True\n",
        "\n",
        "    while gradeDone:\n",
        "        gradeInput = input(f\"Enter grade for {name} or 'q' to quit\").upper()\n",
        "\n",
        "        if gradeInput in [\"A\", \"B\", \"C\", \"D\", \"F\"]:\n",
        "            grades.append(gradeInput)\n",
        "        elif gradeInput ==\"Q\":\n",
        "            gradeDone = False\n",
        "        else:\n",
        "            print(\"Enter valid input\")\n",
        "\n",
        "    myClass.append(Student(name, id, grades))\n",
        "\n",
        "    exit = input(Exit(y/n):)\n",
        "\n",
        "    if exit == \"y\":\n",
        "         break\n",
        "\n",
        "for student in myClass:\n",
        "    print(f\"{student.name} has gpa of {student.getGPA()}\")\n",
        "\n"
      ]
    }
  ]
}