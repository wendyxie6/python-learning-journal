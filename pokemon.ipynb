{
  "nbformat": 4,
  "nbformat_minor": 0,
  "metadata": {
    "colab": {
      "provenance": [],
      "authorship_tag": "ABX9TyPMyulLENcrlK9EuBsPw6cJ",
      "include_colab_link": true
    },
    "kernelspec": {
      "name": "python3",
      "display_name": "Python 3"
    },
    "language_info": {
      "name": "python"
    }
  },
  "cells": [
    {
      "cell_type": "markdown",
      "metadata": {
        "id": "view-in-github",
        "colab_type": "text"
      },
      "source": [
        "<a href=\"https://colab.research.google.com/github/wendyxie6/python-learning-journal/blob/main/pokemon.ipynb\" target=\"_parent\"><img src=\"https://colab.research.google.com/assets/colab-badge.svg\" alt=\"Open In Colab\"/></a>"
      ]
    },
    {
      "cell_type": "code",
      "execution_count": null,
      "metadata": {
        "id": "NBxKBAgFixCh"
      },
      "outputs": [],
      "source": [
        "import random\n",
        "\n",
        "class Pokemon:\n",
        "    def __init__(self, name, type, health, attack, defense, moves):\n",
        "        self.name = name\n",
        "        self.pokemon_type = pokemon_type\n",
        "        self.health = health\n",
        "        self.attack = attack\n",
        "        self.defense = defense\n",
        "        self.moves = moves\n",
        "\n",
        "    def goAttack(self):\n",
        "\n",
        "        while self.health != 0:\n",
        "\n",
        "moves1 = {\"Thunderbolt\": 35, \"Quick Attack\": 25, \"Iron Tail\": 15, \"Electro Ball\": 45}\n",
        "moves2 = {\"Flamethrower\": 40, \"Scratch\": 20, \"Fire Fang\": 50, \"Ember\": 30}\n",
        "\n",
        "\n",
        "pokemon1 = Pokemon(\"Pikachu\", \"Electric\", \"10\", \"5\", \"4\", moves1)\n",
        "pokemon2 = Pokemon(\"Charmander\", \"Fire\", \"10\", \"4\", \"5\", moves2)\n",
        "\n",
        "\n",
        "pokemon1.attack()\n"
      ]
    }
  ]
}