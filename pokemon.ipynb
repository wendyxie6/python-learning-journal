{
  "nbformat": 4,
  "nbformat_minor": 0,
  "metadata": {
    "colab": {
      "provenance": [],
      "authorship_tag": "ABX9TyPS//lwzWmk3N46VLVydaOV",
      "include_colab_link": true
    },
    "kernelspec": {
      "name": "python3",
      "display_name": "Python 3"
    },
    "language_info": {
      "name": "python"
    }
  },
  "cells": [
    {
      "cell_type": "markdown",
      "metadata": {
        "id": "view-in-github",
        "colab_type": "text"
      },
      "source": [
        "<a href=\"https://colab.research.google.com/github/wendyxie6/python-learning-journal/blob/main/pokemon.ipynb\" target=\"_parent\"><img src=\"https://colab.research.google.com/assets/colab-badge.svg\" alt=\"Open In Colab\"/></a>"
      ]
    },
    {
      "cell_type": "code",
      "execution_count": null,
      "metadata": {
        "id": "NBxKBAgFixCh"
      },
      "outputs": [],
      "source": [
        "import random\n",
        "\n",
        "class Pokemon:\n",
        "    def __init__(self, name, type, health, attack, defense, moves):\n",
        "        self.name = name\n",
        "        self.pokemon_type = pokemon_type\n",
        "        self.health = health\n",
        "        self.attack = attack\n",
        "        self.defense = defense\n",
        "        self.moves = moves\n",
        "\n",
        "    def attack(self):\n",
        "\n",
        "        while self.health != 0:\n",
        "\n",
        "moves = [\"rock\", \"paper\", \"sessor\", \"wild\"]\n",
        "pokemon1 = Pokemon(\"Pikachu\", \"yello\", \"10\", \"5\", \"4\", moves)\n",
        "pokemon1 = Pokemon(\"Charmander\", \"blue\", \"10\", \"4\", \"5\", moves)\n",
        "\n",
        "poke\n",
        "pokemon1.attack()\n"
      ]
    }
  ]
}