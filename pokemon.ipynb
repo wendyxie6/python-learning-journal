{
  "nbformat": 4,
  "nbformat_minor": 0,
  "metadata": {
    "colab": {
      "provenance": [],
      "authorship_tag": "ABX9TyP1QXrDSx2vR6RCPtI5xZzB",
      "include_colab_link": true
    },
    "kernelspec": {
      "name": "python3",
      "display_name": "Python 3"
    },
    "language_info": {
      "name": "python"
    }
  },
  "cells": [
    {
      "cell_type": "markdown",
      "metadata": {
        "id": "view-in-github",
        "colab_type": "text"
      },
      "source": [
        "<a href=\"https://colab.research.google.com/github/wendyxie6/python-learning-journal/blob/main/pokemon.ipynb\" target=\"_parent\"><img src=\"https://colab.research.google.com/assets/colab-badge.svg\" alt=\"Open In Colab\"/></a>"
      ]
    },
    {
      "cell_type": "code",
      "execution_count": 32,
      "metadata": {
        "id": "NBxKBAgFixCh",
        "colab": {
          "base_uri": "https://localhost:8080/"
        },
        "outputId": "6c3d8538-94d6-44fd-fb64-9516170ec84d"
      },
      "outputs": [
        {
          "output_type": "stream",
          "name": "stdout",
          "text": [
            "Game Start......\n",
            "\n",
            "------------------------------------\n",
            "# Round 1 ! \n",
            "attacker: Pikachu defender: Charmander\n",
            "Attacker move: Thunderbolt Move power: 5\n",
            "# Round 2 ! \n",
            "attacker: Pikachu defender: Charmander\n",
            "Attacker move: Electro Ball Move power: 20\n",
            "# Round 3 ! \n",
            "attacker: Charmander defender: Pikachu\n",
            "Attacker move: Scratch Move power: 15\n",
            "# Round 4 ! \n",
            "attacker: Charmander defender: Pikachu\n",
            "Attacker move: Fire Fang Move power: 20\n",
            "# Round 5 ! \n",
            "attacker: Pikachu defender: Charmander\n",
            "Attacker move: Thunderbolt Move power: 5\n",
            "# Round 6 ! \n",
            "attacker: Pikachu defender: Charmander\n",
            "Attacker move: Electro Ball Move power: 20\n",
            "# Round 7 ! \n",
            "attacker: Pikachu defender: Charmander\n",
            "Attacker move: Thunderbolt Move power: 5\n",
            "# Round 8 ! \n",
            "attacker: Charmander defender: Pikachu\n",
            "Attacker move: Fire Fang Move power: 20\n",
            "# Round 9 ! \n",
            "attacker: Pikachu defender: Charmander\n",
            "Attacker move: Quick Attack Move power: 10\n",
            "------------------------------------\n",
            "\n",
            "The winner is Pikachu\n"
          ]
        }
      ],
      "source": [
        "import random\n",
        "\n",
        "class Pokemon:\n",
        "    def __init__(self, name, pokemon_type, health, attack, defense, moves):\n",
        "        self.name = name\n",
        "        self.pokemon_type = pokemon_type\n",
        "        self.health = health\n",
        "        self.attack = attack\n",
        "        self.defense = defense\n",
        "        self.moves = moves\n",
        "\n",
        "    def goAttack(self, target):\n",
        "        # Random pick a damage number\n",
        "        RandomDamageNumber = random.randint(5,10)\n",
        "\n",
        "        # Random pick attacker move from its moves lists\n",
        "        move,power = random.choice(list(self.moves.items()))\n",
        "\n",
        "        # Calculate the defender damage point\n",
        "        damage = (RandomDamageNumber + int(self.attack) + int(power)) - int(target.defense)\n",
        "\n",
        "        # Damage should not be negative\n",
        "        damage = max(damage,0)\n",
        "\n",
        "        # Calculate defender health point and it should not be negative\n",
        "        target.health = max((int(target.health) - damage), 0)\n",
        "\n",
        "        print(f\"Attacker move: {move} Move power: {power}\")\n",
        "\n",
        "\n",
        "# List two pokemon move types\n",
        "moves1 = {\"Thunderbolt\": 5, \"Quick Attack\": 10, \"Iron Tail\": 15, \"Electro Ball\": 20}\n",
        "moves2 = {\"Flamethrower\": 10, \"Scratch\": 15, \"Fire Fang\": 20, \"Ember\": 10}\n",
        "\n",
        "\n",
        "pokemon1 = Pokemon(\"Pikachu\", \"Electric\", \"100\", \"50\", \"40\", moves1)\n",
        "pokemon2 = Pokemon(\"Charmander\", \"Fire\", \"100\", \"40\", \"50\", moves2)\n",
        "\n",
        "round = 1\n",
        "\n",
        "print(\"Game Start......\")\n",
        "print(\"\\n------------------------------------\")\n",
        "while int(pokemon1.health) > 0 and int(pokemon2.health) > 0:\n",
        "\n",
        "    print(f\"# Round {round} ! \")\n",
        "    # Random select attaker and defender\n",
        "    attacker, defender = random.sample([pokemon1, pokemon2], 2)\n",
        "\n",
        "    print(f\"attacker: {attacker.name} defender: {defender.name}\")\n",
        "\n",
        "    # Game on\n",
        "    attacker.goAttack(defender)\n",
        "\n",
        "    round += 1\n",
        "\n",
        "print(\"------------------------------------\\n\")\n",
        "\n",
        "if (pokemon1.health == 0):\n",
        "    print(f\"The winner is {pokemon2.name}\")\n",
        "elif (pokemon2.health == 0):\n",
        "    print(f\"The winner is {pokemon1.name}\")"
      ]
    }
  ]
}