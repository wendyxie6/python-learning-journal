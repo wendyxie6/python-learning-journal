{
  "nbformat": 4,
  "nbformat_minor": 0,
  "metadata": {
    "colab": {
      "provenance": [],
      "authorship_tag": "ABX9TyPy4wuA/pogQGcD1vxJ2pK3",
      "include_colab_link": true
    },
    "kernelspec": {
      "name": "python3",
      "display_name": "Python 3"
    },
    "language_info": {
      "name": "python"
    }
  },
  "cells": [
    {
      "cell_type": "markdown",
      "metadata": {
        "id": "view-in-github",
        "colab_type": "text"
      },
      "source": [
        "<a href=\"https://colab.research.google.com/github/wendyxie6/python-learning-journal/blob/main/UnoCard.ipynb\" target=\"_parent\"><img src=\"https://colab.research.google.com/assets/colab-badge.svg\" alt=\"Open In Colab\"/></a>"
      ]
    },
    {
      "cell_type": "code",
      "execution_count": 2,
      "metadata": {
        "colab": {
          "base_uri": "https://localhost:8080/",
          "height": 216
        },
        "id": "HGQcN3JaS8Yu",
        "outputId": "46a38842-a523-4eb9-c898-8990dbd08102"
      },
      "outputs": [
        {
          "output_type": "error",
          "ename": "AttributeError",
          "evalue": "'UnoCard' object has no attribute 'isplayableOn'",
          "traceback": [
            "\u001b[0;31m---------------------------------------------------------------------------\u001b[0m",
            "\u001b[0;31mAttributeError\u001b[0m                            Traceback (most recent call last)",
            "\u001b[0;32m/tmp/ipython-input-3835696433.py\u001b[0m in \u001b[0;36m<cell line: 0>\u001b[0;34m()\u001b[0m\n\u001b[1;32m     19\u001b[0m \u001b[0mwild\u001b[0m \u001b[0;34m=\u001b[0m \u001b[0mUnoCard\u001b[0m\u001b[0;34m(\u001b[0m\u001b[0;34m\"wild\"\u001b[0m\u001b[0;34m,\u001b[0m \u001b[0;34m\"wild +2\"\u001b[0m\u001b[0;34m)\u001b[0m\u001b[0;34m\u001b[0m\u001b[0;34m\u001b[0m\u001b[0m\n\u001b[1;32m     20\u001b[0m \u001b[0;34m\u001b[0m\u001b[0m\n\u001b[0;32m---> 21\u001b[0;31m \u001b[0mprint\u001b[0m\u001b[0;34m(\u001b[0m\u001b[0mb2\u001b[0m\u001b[0;34m.\u001b[0m\u001b[0misplayableOn\u001b[0m\u001b[0;34m(\u001b[0m\u001b[0mb2\u001b[0m\u001b[0;34m)\u001b[0m\u001b[0;34m)\u001b[0m\u001b[0;34m\u001b[0m\u001b[0;34m\u001b[0m\u001b[0m\n\u001b[0m\u001b[1;32m     22\u001b[0m \u001b[0mprint\u001b[0m\u001b[0;34m(\u001b[0m\u001b[0mb2\u001b[0m\u001b[0;34m.\u001b[0m\u001b[0misplayableOn\u001b[0m\u001b[0;34m(\u001b[0m\u001b[0mg2\u001b[0m\u001b[0;34m)\u001b[0m\u001b[0;34m)\u001b[0m\u001b[0;34m\u001b[0m\u001b[0;34m\u001b[0m\u001b[0m\n\u001b[1;32m     23\u001b[0m \u001b[0mprint\u001b[0m\u001b[0;34m(\u001b[0m\u001b[0mb2\u001b[0m\u001b[0;34m.\u001b[0m\u001b[0misplayableOn\u001b[0m\u001b[0;34m(\u001b[0m\u001b[0mb9\u001b[0m\u001b[0;34m)\u001b[0m\u001b[0;34m)\u001b[0m\u001b[0;34m\u001b[0m\u001b[0;34m\u001b[0m\u001b[0m\n",
            "\u001b[0;31mAttributeError\u001b[0m: 'UnoCard' object has no attribute 'isplayableOn'"
          ]
        }
      ],
      "source": [
        "class UnoCard:\n",
        "    def __init__(self, color, value):\n",
        "        self.color = color # blue, green, red, yellow, wild\n",
        "        self.value = value #0-9, skip, reverse, +2, wild, wild +4\n",
        "\n",
        "    def isPlayableOn(self, topCard):\n",
        "        if self.color == topCard.color:\n",
        "            return True\n",
        "        elif self.value == topCard.value:\n",
        "            return True\n",
        "        elif self.color == \"wild\":\n",
        "            return True\n",
        "        else:\n",
        "            return False\n",
        "\n",
        "b2 = UnoCard(\"blue\", \"2\")\n",
        "g2 = UnoCard(\"green\", \"2\")\n",
        "b9 = UnoCard(\"blue\", \"9\")\n",
        "wild = UnoCard(\"wild\", \"wild +2\")\n",
        "\n",
        "print(b2.isplayableOn(b2))\n",
        "print(b2.isplayableOn(g2))\n",
        "print(b2.isplayableOn(b9))\n",
        "print(b2.isplayableOn(wild))\n"
      ]
    }
  ]
}