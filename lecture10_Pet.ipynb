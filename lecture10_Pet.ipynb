{
  "nbformat": 4,
  "nbformat_minor": 0,
  "metadata": {
    "colab": {
      "provenance": [],
      "authorship_tag": "ABX9TyPRZ48dGOBYqCGH3JzFLmYT",
      "include_colab_link": true
    },
    "kernelspec": {
      "name": "python3",
      "display_name": "Python 3"
    },
    "language_info": {
      "name": "python"
    }
  },
  "cells": [
    {
      "cell_type": "markdown",
      "metadata": {
        "id": "view-in-github",
        "colab_type": "text"
      },
      "source": [
        "<a href=\"https://colab.research.google.com/github/wendyxie6/python-learning-journal/blob/main/lecture10_Pet.ipynb\" target=\"_parent\"><img src=\"https://colab.research.google.com/assets/colab-badge.svg\" alt=\"Open In Colab\"/></a>"
      ]
    },
    {
      "cell_type": "code",
      "execution_count": 4,
      "metadata": {
        "colab": {
          "base_uri": "https://localhost:8080/",
          "height": 198
        },
        "id": "YOS8z_m0iPP8",
        "outputId": "2f79867b-031b-4145-b113-8fdcaf06bab4"
      },
      "outputs": [
        {
          "output_type": "error",
          "ename": "TypeError",
          "evalue": "Parrot.__init__() missing 2 required positional arguments: 'cage' and 'wordsKnown'",
          "traceback": [
            "\u001b[0;31m---------------------------------------------------------------------------\u001b[0m",
            "\u001b[0;31mTypeError\u001b[0m                                 Traceback (most recent call last)",
            "\u001b[0;32m/tmp/ipython-input-3549770717.py\u001b[0m in \u001b[0;36m<cell line: 0>\u001b[0;34m()\u001b[0m\n\u001b[1;32m     48\u001b[0m \u001b[0;34m\u001b[0m\u001b[0m\n\u001b[1;32m     49\u001b[0m \u001b[0;34m\u001b[0m\u001b[0m\n\u001b[0;32m---> 50\u001b[0;31m \u001b[0mmyParrot\u001b[0m \u001b[0;34m=\u001b[0m \u001b[0mParrot\u001b[0m\u001b[0;34m(\u001b[0m\u001b[0;34m\"Keet\"\u001b[0m\u001b[0;34m,\u001b[0m \u001b[0;34m[\u001b[0m\u001b[0;34m\"Rope\"\u001b[0m\u001b[0;34m,\u001b[0m \u001b[0;34m\"Bell\"\u001b[0m\u001b[0;34m]\u001b[0m\u001b[0;34m,\u001b[0m \u001b[0;34m[\u001b[0m\u001b[0;34m\"seeds\"\u001b[0m\u001b[0;34m,\u001b[0m \u001b[0;34m\"bugs\"\u001b[0m\u001b[0;34m,\u001b[0m \u001b[0;34m\"fruit\"\u001b[0m\u001b[0;34m]\u001b[0m\u001b[0;34m)\u001b[0m\u001b[0;34m\u001b[0m\u001b[0;34m\u001b[0m\u001b[0m\n\u001b[0m\u001b[1;32m     51\u001b[0m \u001b[0mprint\u001b[0m\u001b[0;34m(\u001b[0m\u001b[0mmyParrot\u001b[0m\u001b[0;34m.\u001b[0m\u001b[0mname\u001b[0m\u001b[0;34m)\u001b[0m\u001b[0;34m\u001b[0m\u001b[0;34m\u001b[0m\u001b[0m\n",
            "\u001b[0;31mTypeError\u001b[0m: Parrot.__init__() missing 2 required positional arguments: 'cage' and 'wordsKnown'"
          ]
        }
      ],
      "source": [
        "class Pet:\n",
        "    def __init__(self, name, toys, food):\n",
        "        self.name = name\n",
        "        self.toys = toys\n",
        "        self.food = food\n",
        "\n",
        "    def play(self, toyChoice):\n",
        "        pass\n",
        "\n",
        "    def fee(self, inputFood):\n",
        "        pass\n",
        "\n",
        "class Parrot(Pet):\n",
        "    def __init__(self, name, toys, food, cage, wordsKnown):\n",
        "        self.name = name\n",
        "        self.toys = toys\n",
        "        self.food = food\n",
        "        self.cage = cage\n",
        "        self.wordsKnown= wordsKnown\n",
        "\n",
        "    def play(self, toyChoice):\n",
        "        print(f\"The parrot plays with the {self.toys[toyChoice]}\")\n",
        "\n",
        "    def feed(self, inputFood):\n",
        "        print(f\"{self.name} pecks at {inputFood}\")\n",
        "\n",
        "        if inputFood in self.food:\n",
        "            print(f\"{self.name} likes the food!\")\n",
        "        else:\n",
        "            print(\"your pet doesn't like it\")\n",
        "\n",
        "class Dog(Pet):\n",
        "    def __init__(self, name, toys, food, breed):\n",
        "        self.name = name\n",
        "        self.toys = toys\n",
        "        self.food = food\n",
        "        self.breed = breed\n",
        "\n",
        "    def play(self):\n",
        "        print(f\"you take {self.name} to play\")\n",
        "\n",
        "    def feed(self, inputFood):\n",
        "        print(f\"{self.name} likes at {inputFood}\")\n",
        "        print(f\"{self.name} eats the {inputFood}\")\n",
        "\n",
        "class Alligator(Pet):\n",
        "    pass\n",
        "\n",
        "\n",
        "myParrot = Parrot(\"Keet\", [\"Rope\", \"Bell\"], [\"seeds\", \"bugs\", \"fruit\"])\n",
        "print(myParrot.name)"
      ]
    }
  ]
}