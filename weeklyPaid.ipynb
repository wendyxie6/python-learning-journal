{
  "nbformat": 4,
  "nbformat_minor": 0,
  "metadata": {
    "colab": {
      "provenance": [],
      "authorship_tag": "ABX9TyOXbViLd6Vy7PTKLiWR/6Aa",
      "include_colab_link": true
    },
    "kernelspec": {
      "name": "python3",
      "display_name": "Python 3"
    },
    "language_info": {
      "name": "python"
    }
  },
  "cells": [
    {
      "cell_type": "markdown",
      "metadata": {
        "id": "view-in-github",
        "colab_type": "text"
      },
      "source": [
        "<a href=\"https://colab.research.google.com/github/wendyxie6/python-learning-journal/blob/main/weeklyPaid.ipynb\" target=\"_parent\"><img src=\"https://colab.research.google.com/assets/colab-badge.svg\" alt=\"Open In Colab\"/></a>"
      ]
    },
    {
      "cell_type": "code",
      "execution_count": 7,
      "metadata": {
        "colab": {
          "base_uri": "https://localhost:8080/"
        },
        "id": "C2tzC3m1ccYS",
        "outputId": "b04c6bee-38ba-4e44-ce85-bdbae43d00ee"
      },
      "outputs": [
        {
          "output_type": "stream",
          "name": "stdout",
          "text": [
            "Enter employee payrate: 10\n",
            "Day 1 \n",
            "Enter your daily working hour: 8\n",
            "Day 2 \n",
            "Enter your daily working hour: 9\n",
            "Day 3 \n",
            "Enter your daily working hour: -1\n",
            "Working hour can't be negative!\n",
            "Day 3 \n",
            "Enter your daily working hour: 4\n",
            "Day 4 \n",
            "Enter your daily working hour: 5\n",
            "Day 5 \n",
            "Enter your daily working hour: 8\n",
            "[8, 9, 4, 5, 8]\n"
          ]
        }
      ],
      "source": [
        "def workHour():\n",
        "    hr_list = []\n",
        "    i = 0\n",
        "\n",
        "    # Calculate employee weekly working hour\n",
        "    while i < 5:\n",
        "        print(f\"Day {i + 1} \")\n",
        "        daily_hr = int(input(\"Enter your daily working hour: \"))\n",
        "        if daily_hr >= 0:\n",
        "            hr_list.append(daily_hr)\n",
        "            i += 1\n",
        "        else:\n",
        "            print(\"Working hour can't be negative!!!\")\n",
        "            continue\n",
        "\n",
        "    return hr_list\n",
        "\n",
        "def dailyPaid(pay_rate, daily_hr):\n",
        "    overtime_paid = 0\n",
        "\n",
        "    for index in daily_hr:\n",
        "        if daily_hr[index] > 12:\n",
        "            reg_paid = 8 *  pay_rate\n",
        "            overtime_paid = 4 * 1.5 * pay_rate + (daily_hr[index] -12) * 2 * daily_hr[index]\n",
        "        elif daily_hr[index] <= 12 and daily_hr[index] > 8:\n",
        "            reg_paid = 8 *  pay_rate\n",
        "            overtime_paid = (daily_hr[index] -8) * 1.5 * daily_hr[index]\n",
        "        else:\n",
        "             reg_paid = daily_hr[index] * pay_rate\n",
        "\n",
        "\n",
        "# Open a file for write\n",
        "#file = open(\"payroll.txt\", \"a\")\n",
        "\n",
        "#Get employee pay rate\n",
        "pay_rate = float(input(\"Enter employee payrate: \"))\n",
        "\n",
        "#Get daily working hour\n",
        "daily_hr = workHour()\n",
        "\n",
        "#Calculate weekly pay\n",
        "dailyPaid(pay_rate, daily_hr)\n",
        "\n",
        "\n",
        "print(daily_hr)\n",
        "\n",
        "\n",
        "# Get employee total working hour\n",
        "total_hr = 0\n",
        "\n",
        "# Calculate employee total pay\n",
        "\n",
        "#total_paid = reg_paid + overtime_paid\n",
        "\n",
        "\n",
        "#print(f\"Employee Payrate: {pay_rate} Total weekly working hour: {total_hr} Regular paid: {reg_paid} Over_time paid: {overtime_paid} Total_paid: {total_paid}/n\")\n",
        "\n",
        "# Save employee record to the file\n",
        "#file.write(f\"Employee Payrate: {pay_rate} Employee Working hour: {total_hr} Regular paid: {reg_paid} Over_time paid: {overtime_paid} Total_paid: {total_paid}/n\")\n",
        "\n",
        "\n",
        "#file.close()\n",
        "\n"
      ]
    }
  ]
}