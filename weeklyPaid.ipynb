{
  "nbformat": 4,
  "nbformat_minor": 0,
  "metadata": {
    "colab": {
      "provenance": [],
      "authorship_tag": "ABX9TyNQXdBhP9AzkAbdH2BaTxU4",
      "include_colab_link": true
    },
    "kernelspec": {
      "name": "python3",
      "display_name": "Python 3"
    },
    "language_info": {
      "name": "python"
    }
  },
  "cells": [
    {
      "cell_type": "markdown",
      "metadata": {
        "id": "view-in-github",
        "colab_type": "text"
      },
      "source": [
        "<a href=\"https://colab.research.google.com/github/wendyxie6/python-learning-journal/blob/main/weeklyPaid.ipynb\" target=\"_parent\"><img src=\"https://colab.research.google.com/assets/colab-badge.svg\" alt=\"Open In Colab\"/></a>"
      ]
    },
    {
      "cell_type": "code",
      "execution_count": 7,
      "metadata": {
        "colab": {
          "base_uri": "https://localhost:8080/"
        },
        "id": "C2tzC3m1ccYS",
        "outputId": "6c29b379-0dfc-4833-afd3-f7362d59d044"
      },
      "outputs": [
        {
          "output_type": "stream",
          "name": "stdout",
          "text": [
            "Enter employee payrate: 20\n",
            "Day 1 \n",
            "Enter your daily working hour: 8\n",
            "Day 2 \n",
            "Enter your daily working hour: 6\n",
            "Day 3 \n",
            "Enter your daily working hour: 6\n",
            "Day 4 \n",
            "Enter your daily working hour: 4\n",
            "Day 5 \n",
            "Enter your daily working hour: 14\n",
            "Day 6 \n",
            "Enter your daily working hour: 2\n",
            "Day 7 \n",
            "Enter your daily working hour: 0\n",
            "Employee Payrate: 20.0 Total weekly working hour: 40 Regular paid: 680.0 Over_time paid: 600.0 Total_paid: 1280.0\n"
          ]
        }
      ],
      "source": [
        "def workHour():\n",
        "    hr_list = []\n",
        "    i = 0\n",
        "\n",
        "    # Get employee weekly working hour\n",
        "    while i < 7:\n",
        "        print(f\"Day {i + 1} \")\n",
        "        daily_hr = int(input(\"Enter your daily working hour: \"))\n",
        "        if daily_hr >= 0:\n",
        "            hr_list.append(daily_hr)\n",
        "            i += 1\n",
        "        else:\n",
        "            print(\"Working hour can't be negative!!!\")\n",
        "            continue\n",
        "\n",
        "    return hr_list\n",
        "\n",
        "def overtimePaid(pay_rate, wk_hr):\n",
        "    overtime_paid = 0\n",
        "\n",
        "    # daily over time more than 8 hour: 1.5 times salary, more than 12 hour: 2 times salary\n",
        "    if wk_hr > 12:\n",
        "        overtime_paid = 4 * 1.5 * pay_rate + (wk_hr - 12) * 2 * pay_rate\n",
        "    else:\n",
        "        overtime_paid = (wk_hr -8) * 1.5 * pay_rate\n",
        "\n",
        "    return overtime_paid\n",
        "\n",
        "# Define variable\n",
        "wk_ot_paid = 0\n",
        "day_ot_paid = 0\n",
        "wk_reg_paid = 0\n",
        "total_work_hr = 0\n",
        "\n",
        "# Open a file for write\n",
        "file = open(\"payroll.txt\", \"a\")\n",
        "\n",
        "#Get employee pay rate\n",
        "pay_rate = float(input(\"Enter employee payrate: \"))\n",
        "\n",
        "#Get daily working hour\n",
        "wkhr_list = workHour()\n",
        "\n",
        "#Calculate weekly pay\n",
        "for hr in wkhr_list:\n",
        "\n",
        "    if  hr <= 8:\n",
        "        day_reg_paid = hr * pay_rate\n",
        "\n",
        "    else:\n",
        "        day_ot_paid = overtimePaid(pay_rate, hr)\n",
        "        day_reg_paid = 8 * pay_rate\n",
        "\n",
        "    # total working hour and paid\n",
        "    total_work_hr = total_work_hr + hr\n",
        "    wk_reg_paid = wk_reg_paid + day_reg_paid\n",
        "    wk_ot_paid = wk_ot_paid + day_ot_paid\n",
        "\n",
        "\n",
        "# Employee weekly total working more than 40 hours: 1.5 times salary\n",
        "if total_work_hr > 40 and wk_ot_paid == 0:\n",
        "    wk_ot_paid = (total_work_hr - 40) * 1.5 * pay_rate\n",
        "\n",
        "# Calculate employee total pay\n",
        "total_paid = wk_reg_paid + wk_ot_paid\n",
        "\n",
        "print(f\"Employee Payrate: {pay_rate} Total weekly working hour: {total_work_hr} Regular paid: {wk_reg_paid} Over_time paid: {wk_ot_paid} Total_paid: {total_paid}\")\n",
        "\n",
        "# Save employee record to the file\n",
        "file.write(f\"Employee Payrate: {pay_rate} Total weekly working hour: {total_work_hr} Regular paid: {wk_reg_paid} Over_time paid: {wk_ot_paid} Total_paid: {total_paid}\\n\")\n",
        "\n",
        "file.close()\n",
        "\n"
      ]
    }
  ]
}