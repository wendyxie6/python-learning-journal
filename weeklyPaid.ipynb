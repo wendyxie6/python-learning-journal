{
  "nbformat": 4,
  "nbformat_minor": 0,
  "metadata": {
    "colab": {
      "provenance": [],
      "authorship_tag": "ABX9TyOBI7Skz5ijBQD82bCpT9br",
      "include_colab_link": true
    },
    "kernelspec": {
      "name": "python3",
      "display_name": "Python 3"
    },
    "language_info": {
      "name": "python"
    }
  },
  "cells": [
    {
      "cell_type": "markdown",
      "metadata": {
        "id": "view-in-github",
        "colab_type": "text"
      },
      "source": [
        "<a href=\"https://colab.research.google.com/github/wendyxie6/python-learning-journal/blob/main/weeklyPaid.ipynb\" target=\"_parent\"><img src=\"https://colab.research.google.com/assets/colab-badge.svg\" alt=\"Open In Colab\"/></a>"
      ]
    },
    {
      "cell_type": "code",
      "execution_count": 1,
      "metadata": {
        "colab": {
          "base_uri": "https://localhost:8080/"
        },
        "id": "C2tzC3m1ccYS",
        "outputId": "8c1fdcfc-f976-45f6-9a80-7086fc5bb758"
      },
      "outputs": [
        {
          "output_type": "stream",
          "name": "stdout",
          "text": [
            "Day 1 \n",
            "Enter your daily working hour: 2\n",
            "Day 2 \n",
            "Enter your daily working hour: 10\n",
            "Day 3 \n",
            "Enter your daily working hour: 5\n",
            "Day 4 \n",
            "Enter your daily working hour: 8\n",
            "Day 5 \n",
            "Enter your daily working hour: 12\n",
            "Employee Working hour: 37 Regular paid: 740 Over_time paid: 0 Total_paid: 740\n"
          ]
        }
      ],
      "source": [
        "def workHour():\n",
        "    hr = 0\n",
        "\n",
        "    for i in range(1,6):\n",
        "        print(f\"Day {i} \")\n",
        "        daily_hr = int(input(\"Enter your daily working hour: \"))\n",
        "\n",
        "        hr = hr + daily_hr\n",
        "\n",
        "    return hr\n",
        "\n",
        "file = open(\"payroll.txt\", \"a\")\n",
        "pay_rate = float(input(\"Enter employee payrate: \"))\n",
        "overtime_paid = 0\n",
        "\n",
        "total_hr = workHour()\n",
        "\n",
        "\n",
        "if total_hr > 40:\n",
        "    reg_paid = total_hr * 20\n",
        "    overtime_paid = (total_hr - 40) * 20 * 1.5\n",
        "else:\n",
        "    reg_paid = total_hr * 20\n",
        "\n",
        "total_paid = reg_paid + overtime_paid\n",
        "\n",
        "\n",
        "print(f\"Employee Payrate: {pay_rate} Employee Working hour: {total_hr} Regular paid: {reg_paid} Over_time paid: {overtime_paid} Total_paid: {total_paid}\")\n",
        "\n",
        "file.write(f\"Employee Payrate: {pay_rate} Employee Working hour: {total_hr} Regular paid: {reg_paid} Over_time paid: {overtime_paid} Total_paid: {total_paid}\")\n",
        "\n",
        "\n",
        "file.close()\n",
        "\n"
      ]
    }
  ]
}