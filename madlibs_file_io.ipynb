{
  "nbformat": 4,
  "nbformat_minor": 0,
  "metadata": {
    "colab": {
      "provenance": [],
      "authorship_tag": "ABX9TyMOgg+nrxcNuoUk3Owk2Gr5",
      "include_colab_link": true
    },
    "kernelspec": {
      "name": "python3",
      "display_name": "Python 3"
    },
    "language_info": {
      "name": "python"
    }
  },
  "cells": [
    {
      "cell_type": "markdown",
      "metadata": {
        "id": "view-in-github",
        "colab_type": "text"
      },
      "source": [
        "<a href=\"https://colab.research.google.com/github/wendyxie6/python-learning-journal/blob/main/madlibs_file_io.ipynb\" target=\"_parent\"><img src=\"https://colab.research.google.com/assets/colab-badge.svg\" alt=\"Open In Colab\"/></a>"
      ]
    },
    {
      "cell_type": "code",
      "execution_count": 25,
      "metadata": {
        "id": "lRCHdJSaRyp-"
      },
      "outputs": [],
      "source": [
        "file_name = \"madlibs.txt\"\n",
        "\n",
        "file = open(file_name, \"r\")\n",
        "\n",
        "color = file.readline().strip()\n",
        "plural_noun = file.readline().strip()\n",
        "num = file.readline().strip()\n",
        "bool_num = file.readline().strip()\n",
        "fra_num = file.readline().strip()\n",
        "\n",
        "file.close()\n",
        "\n",
        "file = open(file_name, \"a\")\n",
        "\n",
        "add_line1 = file.write(\"\\nsunny day\")\n",
        "add_line2 = file.write(\"\\nblue moon\")\n",
        "\n",
        "file.close()\n"
      ]
    }
  ]
}