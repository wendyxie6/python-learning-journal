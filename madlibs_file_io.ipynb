{
  "nbformat": 4,
  "nbformat_minor": 0,
  "metadata": {
    "colab": {
      "provenance": [],
      "authorship_tag": "ABX9TyN8UYmgMj2JtuBKhgNiJqIh",
      "include_colab_link": true
    },
    "kernelspec": {
      "name": "python3",
      "display_name": "Python 3"
    },
    "language_info": {
      "name": "python"
    }
  },
  "cells": [
    {
      "cell_type": "markdown",
      "metadata": {
        "id": "view-in-github",
        "colab_type": "text"
      },
      "source": [
        "<a href=\"https://colab.research.google.com/github/wendyxie6/python-learning-journal/blob/main/madlibs_file_io.ipynb\" target=\"_parent\"><img src=\"https://colab.research.google.com/assets/colab-badge.svg\" alt=\"Open In Colab\"/></a>"
      ]
    },
    {
      "cell_type": "code",
      "execution_count": 7,
      "metadata": {
        "id": "lRCHdJSaRyp-"
      },
      "outputs": [],
      "source": [
        "file_name = \"madlibs.txt\"\n",
        "\n",
        "file = open(file_name, \"r\")\n",
        "\n",
        "color = file.readline().strip()\n",
        "plural_noun = file.readline().strip()\n",
        "num = file.readline().strip()\n",
        "bool_num = file.readline().strip()\n",
        "fra_num = file.readline().strip()\n",
        "\n",
        "file = open(file_name, \"a\")\n",
        "\n",
        "add_line1 = \"sunny day\"\n",
        "add_line2 = \"blue moon\"\n",
        "file.write(\"\\n\" + add_line1)\n",
        "file.write(\"\\n\" + add_line2)\n",
        "\n",
        "\n",
        "\n",
        "file.close()\n"
      ]
    }
  ]
}