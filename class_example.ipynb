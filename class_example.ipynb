{
  "nbformat": 4,
  "nbformat_minor": 0,
  "metadata": {
    "colab": {
      "provenance": [],
      "authorship_tag": "ABX9TyONcmNjP0wiBhCPH0AFjeKc",
      "include_colab_link": true
    },
    "kernelspec": {
      "name": "python3",
      "display_name": "Python 3"
    },
    "language_info": {
      "name": "python"
    }
  },
  "cells": [
    {
      "cell_type": "markdown",
      "metadata": {
        "id": "view-in-github",
        "colab_type": "text"
      },
      "source": [
        "<a href=\"https://colab.research.google.com/github/wendyxie6/python-learning-journal/blob/main/class_example.ipynb\" target=\"_parent\"><img src=\"https://colab.research.google.com/assets/colab-badge.svg\" alt=\"Open In Colab\"/></a>"
      ]
    },
    {
      "cell_type": "code",
      "execution_count": 1,
      "metadata": {
        "id": "qp5MQbgo7WWH"
      },
      "outputs": [],
      "source": [
        "class Car:\n",
        "    def __init__(self, make, model, year, VIN,color):\n",
        "        self.make =  make\n",
        "        self.model = model\n",
        "        self.year = year\n",
        "        self.VIN = VIN\n",
        "        self.color = color\n",
        "\n",
        "myCar = Car(\"Toyota\", \"A\", 2025, 12345, \"Red\")\n"
      ]
    },
    {
      "cell_type": "code",
      "source": [
        "def gtaReport(car):\n",
        "    print(f\"My car: {myCar.year} {myCar.color} \")\n",
        "\n",
        "gtaReport(myCar)"
      ],
      "metadata": {
        "colab": {
          "base_uri": "https://localhost:8080/"
        },
        "id": "3uvDecFkBPsA",
        "outputId": "96210320-0f2c-4121-a6ee-d6210213b04f"
      },
      "execution_count": 4,
      "outputs": [
        {
          "output_type": "stream",
          "name": "stdout",
          "text": [
            "My car: 2025 Red \n"
          ]
        }
      ]
    }
  ]
}