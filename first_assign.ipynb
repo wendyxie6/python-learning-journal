{
  "nbformat": 4,
  "nbformat_minor": 0,
  "metadata": {
    "colab": {
      "provenance": [],
      "authorship_tag": "ABX9TyNNyKJBKSpx7OciAtrpRgBe",
      "include_colab_link": true
    },
    "kernelspec": {
      "name": "python3",
      "display_name": "Python 3"
    },
    "language_info": {
      "name": "python"
    }
  },
  "cells": [
    {
      "cell_type": "markdown",
      "metadata": {
        "id": "view-in-github",
        "colab_type": "text"
      },
      "source": [
        "<a href=\"https://colab.research.google.com/github/wendyxie6/python-learning-journal/blob/main/first_assign.ipynb\" target=\"_parent\"><img src=\"https://colab.research.google.com/assets/colab-badge.svg\" alt=\"Open In Colab\"/></a>"
      ]
    },
    {
      "cell_type": "code",
      "execution_count": 3,
      "metadata": {
        "colab": {
          "base_uri": "https://localhost:8080/"
        },
        "id": "vnMtk8ZkpGf_",
        "outputId": "e58e930d-73a5-4b64-db5d-4e995ad86e8c"
      },
      "outputs": [
        {
          "output_type": "stream",
          "name": "stdout",
          "text": [
            "Employee:  John Doe  monthly paid:  1000\n",
            "Employee:  John Doe  monthly take home money:  700.0\n",
            "Employee:  John Doe  yearly take home money:  8400.0\n"
          ]
        }
      ],
      "source": [
        "emp_name = \"John Doe\"\n",
        "paid = 1000\n",
        "\n",
        "print (\"Employee: \", emp_name, \" monthly paid: \", paid)\n",
        "\n",
        "paid = 1000 * 0.7\n",
        "\n",
        "print (\"Employee: \", emp_name, \" monthly take home money: \", paid)\n",
        "\n",
        "paid = 1000 * 12 * 0.7\n",
        "\n",
        "print (\"Employee: \", emp_name, \" yearly take home money: \", paid)"
      ]
    }
  ]
}