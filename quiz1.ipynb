{
  "nbformat": 4,
  "nbformat_minor": 0,
  "metadata": {
    "colab": {
      "provenance": [],
      "authorship_tag": "ABX9TyNBoHtnMnSjleqWeqhwlDKp",
      "include_colab_link": true
    },
    "kernelspec": {
      "name": "python3",
      "display_name": "Python 3"
    },
    "language_info": {
      "name": "python"
    }
  },
  "cells": [
    {
      "cell_type": "markdown",
      "metadata": {
        "id": "view-in-github",
        "colab_type": "text"
      },
      "source": [
        "<a href=\"https://colab.research.google.com/github/wendyxie6/python-learning-journal/blob/main/quiz1.ipynb\" target=\"_parent\"><img src=\"https://colab.research.google.com/assets/colab-badge.svg\" alt=\"Open In Colab\"/></a>"
      ]
    },
    {
      "cell_type": "code",
      "execution_count": 7,
      "metadata": {
        "colab": {
          "base_uri": "https://localhost:8080/"
        },
        "id": "lve3hRQKR6Xr",
        "outputId": "205a0d74-bb84-46c6-9edd-8c8aeca3ff24"
      },
      "outputs": [
        {
          "output_type": "stream",
          "name": "stdout",
          "text": [
            "RED: 100\n",
            "GREEN: 2\n",
            "BLUE: 141\n"
          ]
        }
      ],
      "source": [
        "def fileRead(path):\n",
        "\n",
        "  file = open(path, \"r\")\n",
        "  content = file.read()\n",
        "\n",
        "  file.close()\n",
        "\n",
        "  return content\n",
        "\n",
        "\n",
        "file_path = \"color_code.txt\"\n",
        "color_str = fileRead(file_path)\n",
        "(red,green,blue) = (color_str).split(\",\")\n",
        "\n",
        "print(\"RED: \" + red.strip(\" \"))\n",
        "print(\"GREEN: \" + green.strip(\" \"))\n",
        "print(\"BLUE: \" + blue.strip(\" \"))"
      ]
    },
    {
      "cell_type": "markdown",
      "source": [
        "https://colab.research.google.com/drive/15RWC2OWJx9l5T5eIDtGap5-zZcxirc5u?usp=sharing"
      ],
      "metadata": {
        "id": "ndqNJazzSKHO"
      }
    }
  ]
}