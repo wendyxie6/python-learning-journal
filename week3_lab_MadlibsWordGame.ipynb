{
  "nbformat": 4,
  "nbformat_minor": 0,
  "metadata": {
    "colab": {
      "provenance": [],
      "authorship_tag": "ABX9TyMITH15ZN91BSTMr/1dPPxc",
      "include_colab_link": true
    },
    "kernelspec": {
      "name": "python3",
      "display_name": "Python 3"
    },
    "language_info": {
      "name": "python"
    }
  },
  "cells": [
    {
      "cell_type": "markdown",
      "metadata": {
        "id": "view-in-github",
        "colab_type": "text"
      },
      "source": [
        "<a href=\"https://colab.research.google.com/github/wendyxie6/python-learning-journal/blob/main/week3_lab_MadlibsWordGame.ipynb\" target=\"_parent\"><img src=\"https://colab.research.google.com/assets/colab-badge.svg\" alt=\"Open In Colab\"/></a>"
      ]
    },
    {
      "cell_type": "code",
      "execution_count": 1,
      "metadata": {
        "colab": {
          "base_uri": "https://localhost:8080/"
        },
        "id": "b7PK6rOW685M",
        "outputId": "7f3006ae-f80e-49ed-fa9b-957bd3e0ad94"
      },
      "outputs": [
        {
          "output_type": "stream",
          "name": "stdout",
          "text": [
            "Enter a number: 2\n",
            "Enter a color: red\n",
            "Enter the story subject: dogs\n",
            "Enter a silly action: jumping on the bed\n",
            "2 red dogs jumping on the bed\n"
          ]
        }
      ],
      "source": [
        "number = input(\"Enter a number: \")\n",
        "color = input(\"Enter a color: \")\n",
        "subject = input(\"Enter the story subject: \")\n",
        "action = input(\"Enter a silly action: \")\n",
        "\n",
        "print(number, color, subject, action)\n",
        "\n"
      ]
    }
  ]
}