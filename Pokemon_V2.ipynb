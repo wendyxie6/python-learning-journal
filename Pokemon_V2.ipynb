{
  "nbformat": 4,
  "nbformat_minor": 0,
  "metadata": {
    "colab": {
      "provenance": [],
      "authorship_tag": "ABX9TyPy4IQnqSP5I0EvAlT0MQsu",
      "include_colab_link": true
    },
    "kernelspec": {
      "name": "python3",
      "display_name": "Python 3"
    },
    "language_info": {
      "name": "python"
    }
  },
  "cells": [
    {
      "cell_type": "markdown",
      "metadata": {
        "id": "view-in-github",
        "colab_type": "text"
      },
      "source": [
        "<a href=\"https://colab.research.google.com/github/wendyxie6/python-learning-journal/blob/main/Pokemon_V2.ipynb\" target=\"_parent\"><img src=\"https://colab.research.google.com/assets/colab-badge.svg\" alt=\"Open In Colab\"/></a>"
      ]
    },
    {
      "cell_type": "code",
      "execution_count": null,
      "metadata": {
        "id": "UtkPnptHZR3j"
      },
      "outputs": [],
      "source": [
        "\"\"\" This is a simple simulation Pokémon game where two Pokémon objects take\n",
        "turns to perform moves until one runs out of health -- Developed by Wendy Xie\"\"\"\n",
        "\n",
        "import random\n",
        "\n",
        "class Pokemon:\n",
        "    def __init__(self, name, pokemon_type, health, attack, defense, moves):\n",
        "        self.name = name\n",
        "        self.pokemon_type = pokemon_type\n",
        "        self.health = health\n",
        "        self.attack = attack\n",
        "        self.defense = defense\n",
        "        self.moves = moves\n",
        "\n",
        "    def goAttack(self, target):\n",
        "        # Random pick a damage number\n",
        "        RandomDamageNumber = random.randint(5,10)\n",
        "\n",
        "        # Random pick attacker move from its moves lists\n",
        "        move,power = random.choice(list(self.moves.items()))\n",
        "\n",
        "        # Calculate the defender damage point\n",
        "        damage = (RandomDamageNumber + int(self.attack) + int(power)) - int(target.defense)\n",
        "\n",
        "        # Damage should not be negative\n",
        "        damage = max(damage,0)\n",
        "\n",
        "        # Calculate defender health point and it should not be negative\n",
        "        target.health = max((int(target.health) - damage), 0)\n",
        "\n",
        "        print(f\"Attacker move: {move} Move power: {power}\")\n",
        "\n",
        "class PokemonMoves:\n",
        "    def __init__(self, moveTypes, power):\n",
        "        self.moveType = moveType\n",
        "        self.power = power\n",
        "\n",
        "\n",
        "\n",
        "\n",
        "# List two pokemon move types\n",
        "moves1 = {\"Thunderbolt\": 5, \"Quick Attack\": 10, \"Iron Tail\": 15, \"Electro Ball\": 20}\n",
        "moves2 = {\"Flamethrower\": 10, \"Scratch\": 15, \"Fire Fang\": 20, \"Ember\": 10}\n",
        "\n",
        "# Create two Pokémon object\n",
        "pokemon1 = Pokemon(\"Pikachu\", \"Electric\", \"100\", \"50\", \"40\", moves1)\n",
        "pokemon2 = Pokemon(\"Charmander\", \"Fire\", \"100\", \"40\", \"50\", moves2)\n",
        "\n",
        "round = 1\n",
        "\n",
        "print(\"\\n----------------- Game Start....  ----------------\\n\")\n",
        "while int(pokemon1.health) > 0 and int(pokemon2.health) > 0:\n",
        "\n",
        "    print(f\"# Round {round} ! \")\n",
        "\n",
        "    # Random select attaker and defender\n",
        "    attacker, defender = random.sample([pokemon1, pokemon2], 2)\n",
        "\n",
        "    print(f\"attacker: {attacker.name} defender: {defender.name}\")\n",
        "\n",
        "    # Game on\n",
        "    attacker.goAttack(defender)\n",
        "\n",
        "    # Remain health point for each game\n",
        "    print(f\"{pokemon1.name} health point: {pokemon1.health} {pokemon2.name} health point: {pokemon2.health}\\n\")\n",
        "    round += 1\n",
        "\n",
        "print(\"-------------- Game Over -----------------\\n\")\n",
        "\n",
        "# Announce the winner\n",
        "if (pokemon1.health == 0):\n",
        "    print(f\"The winner is {pokemon2.name}\")\n",
        "elif (pokemon2.health == 0):\n",
        "    print(f\"The winner is {pokemon1.name}\")"
      ]
    }
  ]
}