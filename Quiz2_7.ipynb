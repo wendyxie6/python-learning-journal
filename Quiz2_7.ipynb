{
  "nbformat": 4,
  "nbformat_minor": 0,
  "metadata": {
    "colab": {
      "provenance": [],
      "authorship_tag": "ABX9TyNRa1Lzrs8unGwxG5yCkN+g",
      "include_colab_link": true
    },
    "kernelspec": {
      "name": "python3",
      "display_name": "Python 3"
    },
    "language_info": {
      "name": "python"
    }
  },
  "cells": [
    {
      "cell_type": "markdown",
      "metadata": {
        "id": "view-in-github",
        "colab_type": "text"
      },
      "source": [
        "<a href=\"https://colab.research.google.com/github/wendyxie6/python-learning-journal/blob/main/Quiz2_7.ipynb\" target=\"_parent\"><img src=\"https://colab.research.google.com/assets/colab-badge.svg\" alt=\"Open In Colab\"/></a>"
      ]
    },
    {
      "cell_type": "code",
      "execution_count": 7,
      "metadata": {
        "colab": {
          "base_uri": "https://localhost:8080/"
        },
        "id": "tlbw5LNrngLf",
        "outputId": "2e466cdd-aae4-4d8f-f0d7-0a9470d74133"
      },
      "outputs": [
        {
          "output_type": "stream",
          "name": "stdout",
          "text": [
            "your hand(rock/paper/scissors):paper\n",
            "your hand(rock/paper/scissors):scissors\n",
            "your hand(rock/paper/scissors):paper\n",
            "Computer answer: ['paper', 'rock', 'scissors']\n",
            "Computer win!\n"
          ]
        }
      ],
      "source": [
        "import random\n",
        "def humanWin(machine,user):\n",
        "    win_flag = False\n",
        "\n",
        "    if user == \"rock\" and machine == \"scissors\":\n",
        "        win_flag = True\n",
        "    elif user == \"paper\" and machine == \"rock\":\n",
        "        win_flag = True\n",
        "    elif user == \"scissors\" and machine == \"paper\":\n",
        "        win_flag = True\n",
        "\n",
        "    return win_flag\n",
        "\n",
        "\n",
        "max_try = 0\n",
        "rule = [\"rock\", \"paper\", \"scissors\"]\n",
        "human_win = 0\n",
        "computer_win = 0\n",
        "computer_list=[]\n",
        "\n",
        "\n",
        "while max_try < 3:\n",
        "\n",
        "    index = random.randint(0,2)\n",
        "    computer = rule[index]\n",
        "    # Save computer answer\n",
        "    computer_list.append(computer)\n",
        "\n",
        "    human = input(\"your hand(rock/paper/scissors):\")\n",
        "\n",
        "    flag = humanWin(computer, human)\n",
        "\n",
        "    if flag == True:\n",
        "        human_win += 1\n",
        "    else:\n",
        "        computer_win +=1\n",
        "\n",
        "    max_try += 1\n",
        "\n",
        "print(f\"Computer answer: {computer_list}\")\n",
        "\n",
        "if human_win > computer_win:\n",
        "    print(\"Human win!\")\n",
        "else:\n",
        "    print(\"Computer win!\")\n",
        "\n",
        "\n",
        "\n",
        ""
      ]
    }
  ]
}