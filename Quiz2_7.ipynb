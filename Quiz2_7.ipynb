{
  "nbformat": 4,
  "nbformat_minor": 0,
  "metadata": {
    "colab": {
      "provenance": [],
      "authorship_tag": "ABX9TyPoG9EZqN1est53ZSUpoNXT",
      "include_colab_link": true
    },
    "kernelspec": {
      "name": "python3",
      "display_name": "Python 3"
    },
    "language_info": {
      "name": "python"
    }
  },
  "cells": [
    {
      "cell_type": "markdown",
      "metadata": {
        "id": "view-in-github",
        "colab_type": "text"
      },
      "source": [
        "<a href=\"https://colab.research.google.com/github/wendyxie6/python-learning-journal/blob/main/Quiz2_7.ipynb\" target=\"_parent\"><img src=\"https://colab.research.google.com/assets/colab-badge.svg\" alt=\"Open In Colab\"/></a>"
      ]
    },
    {
      "cell_type": "code",
      "execution_count": 6,
      "metadata": {
        "colab": {
          "base_uri": "https://localhost:8080/"
        },
        "id": "tlbw5LNrngLf",
        "outputId": "3f5c05e2-8d57-42e6-8ab5-d69f76080a89"
      },
      "outputs": [
        {
          "output_type": "stream",
          "name": "stdout",
          "text": [
            "0 + rock\n",
            "your hand(rock/paper/scissors):paper\n",
            "0 + rock\n",
            "your hand(rock/paper/scissors):paper\n",
            "2 + scissors\n",
            "your hand(rock/paper/scissors):rock\n",
            "Human win!\n"
          ]
        }
      ],
      "source": [
        "\n",
        "import random\n",
        "def humanWin(machine,user):\n",
        "    win_flag = False\n",
        "\n",
        "    if user == \"rock\" and machine == \"scissors\":\n",
        "        win_flag = True\n",
        "    elif user == \"paper\" and machine == \"rock\":\n",
        "        win_flag = True\n",
        "    elif user == \"scissors\" and machine == \"paper\":\n",
        "        win_flag = True\n",
        "\n",
        "    return win_flag\n",
        "\n",
        "\n",
        "max_try = 0\n",
        "rule = [\"rock\", \"paper\", \"scissors\"]\n",
        "human_win = 0\n",
        "computer_win = 0\n",
        "\n",
        "\n",
        "while max_try < 3:\n",
        "\n",
        "    index = random.randint(0,2)\n",
        "    computer = rule[index]\n",
        "    print(f\"{index} + {computer}\")\n",
        "\n",
        "    human = input(\"your hand(rock/paper/scissors):\")\n",
        "\n",
        "    flag = humanWin(computer, human)\n",
        "\n",
        "    if flag == True:\n",
        "        human_win += 1\n",
        "    else:\n",
        "        computer_win +=1\n",
        "\n",
        "    max_try += 1\n",
        "\n",
        "if human_win > computer_win:\n",
        "    print(\"Human win!\")\n",
        "else:\n",
        "    print(\"Computer win!\")\n",
        "\n",
        "\n",
        "\n",
        ""
      ]
    }
  ]
}