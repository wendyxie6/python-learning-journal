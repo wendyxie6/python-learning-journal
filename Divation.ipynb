{
  "nbformat": 4,
  "nbformat_minor": 0,
  "metadata": {
    "colab": {
      "provenance": [],
      "authorship_tag": "ABX9TyMhgkfY5cHLAlcoYQuZvlnY",
      "include_colab_link": true
    },
    "kernelspec": {
      "name": "python3",
      "display_name": "Python 3"
    },
    "language_info": {
      "name": "python"
    }
  },
  "cells": [
    {
      "cell_type": "markdown",
      "metadata": {
        "id": "view-in-github",
        "colab_type": "text"
      },
      "source": [
        "<a href=\"https://colab.research.google.com/github/wendyxie6/python-learning-journal/blob/main/Divation.ipynb\" target=\"_parent\"><img src=\"https://colab.research.google.com/assets/colab-badge.svg\" alt=\"Open In Colab\"/></a>"
      ]
    },
    {
      "cell_type": "code",
      "execution_count": 5,
      "metadata": {
        "colab": {
          "base_uri": "https://localhost:8080/"
        },
        "id": "oG8r_9vcL8mJ",
        "outputId": "f8e84bab-1f34-4e6c-b109-8a0cc0abb63d"
      },
      "outputs": [
        {
          "output_type": "stream",
          "name": "stdout",
          "text": [
            "Enter grade: 90\n",
            "Exit(y/n): n\n",
            "Enter grade: 95\n",
            "Exit(y/n): n\n",
            "Enter grade: 85\n",
            "Exit(y/n): y\n",
            "Mean = 90.0\n",
            "Div: 4.08248290463863\n"
          ]
        }
      ],
      "source": [
        "import math\n",
        "\n",
        "myGrades=[]\n",
        "notDone = True\n",
        "mySum = 0\n",
        "while notDone:\n",
        "    grade = float(input(\"Enter grade: \"))\n",
        "    myGrades.append(grade)\n",
        "    done = input(\"Exit(y/n): \")\n",
        "    if done.lower()==\"y\":\n",
        "        notDone = False\n",
        "\n",
        "for grade in myGrades:\n",
        "    mySum +=grade\n",
        "\n",
        "mean = mySum/len(myGrades)\n",
        "\n",
        "print(f\"Mean = {mean}\")\n",
        "\n",
        "sum_diff = 0\n",
        "\n",
        "for grade in myGrades:\n",
        "    diff = (grade - mean)**2\n",
        "    sum_diff = sum_diff + diff\n",
        "\n",
        "div = math.sqrt((sum_diff/len(myGrades)) )\n",
        "\n",
        "print (f\"Div:ation: {div}\")"
      ]
    }
  ]
}