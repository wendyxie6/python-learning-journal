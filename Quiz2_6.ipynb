{
  "nbformat": 4,
  "nbformat_minor": 0,
  "metadata": {
    "colab": {
      "provenance": [],
      "authorship_tag": "ABX9TyOvnWcL5GohpAxPuvWLZvJ7",
      "include_colab_link": true
    },
    "kernelspec": {
      "name": "python3",
      "display_name": "Python 3"
    },
    "language_info": {
      "name": "python"
    }
  },
  "cells": [
    {
      "cell_type": "markdown",
      "metadata": {
        "id": "view-in-github",
        "colab_type": "text"
      },
      "source": [
        "<a href=\"https://colab.research.google.com/github/wendyxie6/python-learning-journal/blob/main/Quiz2_6.ipynb\" target=\"_parent\"><img src=\"https://colab.research.google.com/assets/colab-badge.svg\" alt=\"Open In Colab\"/></a>"
      ]
    },
    {
      "cell_type": "code",
      "execution_count": 8,
      "metadata": {
        "colab": {
          "base_uri": "https://localhost:8080/"
        },
        "id": "re70MLB9X-RI",
        "outputId": "2b88abea-f0dc-44e2-9455-3b0b74460d53"
      },
      "outputs": [
        {
          "output_type": "stream",
          "name": "stdout",
          "text": [
            "Enter a number or type exit8\n",
            "Enter a number or type exit9\n",
            "Enter a number or type exit9\n",
            "Duplicate number, Try again!\n",
            "Enter a number or type exit10\n",
            "Enter a number or type exitexit\n",
            "['8', '9', '10']\n"
          ]
        }
      ],
      "source": [
        "#Check duplicate number\n",
        "def checknum(num_list, number):\n",
        "    match_flag = False\n",
        "\n",
        "    for chk_num in num_list:\n",
        "        if chk_num == number:\n",
        "            match_flag = True\n",
        "\n",
        "    return match_flag\n",
        "\n",
        "\n",
        "\n",
        "# Get number list until type 'exit'\n",
        "def numberList():\n",
        "    my_list = []\n",
        "    flag = True\n",
        "\n",
        "    while True:\n",
        "        num = input(\"Enter a number or type exit\")\n",
        "\n",
        "\n",
        "        if num.lower() == 'exit':\n",
        "            break\n",
        "        elif checknum(my_list, num) == True:\n",
        "            print(\"Duplicate number, Try again!\")\n",
        "            continue\n",
        "\n",
        "        my_list.append(num)\n",
        "\n",
        "    return my_list\n",
        "\n",
        "\n",
        "getlist = numberList()\n",
        "print(getlist)\n"
      ]
    }
  ]
}