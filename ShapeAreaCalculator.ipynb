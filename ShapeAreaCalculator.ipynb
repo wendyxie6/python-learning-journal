{
  "nbformat": 4,
  "nbformat_minor": 0,
  "metadata": {
    "colab": {
      "provenance": [],
      "authorship_tag": "ABX9TyNx7gcL7BAGc4cAaPbVMCFU",
      "include_colab_link": true
    },
    "kernelspec": {
      "name": "python3",
      "display_name": "Python 3"
    },
    "language_info": {
      "name": "python"
    }
  },
  "cells": [
    {
      "cell_type": "markdown",
      "metadata": {
        "id": "view-in-github",
        "colab_type": "text"
      },
      "source": [
        "<a href=\"https://colab.research.google.com/github/wendyxie6/python-learning-journal/blob/main/ShapeAreaCalculator.ipynb\" target=\"_parent\"><img src=\"https://colab.research.google.com/assets/colab-badge.svg\" alt=\"Open In Colab\"/></a>"
      ]
    },
    {
      "cell_type": "code",
      "execution_count": 10,
      "metadata": {
        "colab": {
          "base_uri": "https://localhost:8080/"
        },
        "id": "0Kum9tqZBx1k",
        "outputId": "16e17d60-3894-487b-ad85-6d6814f7540c"
      },
      "outputs": [
        {
          "output_type": "stream",
          "name": "stdout",
          "text": [
            "Enter circle radius: 4\n",
            "Enter length: 6\n",
            "Enter rectangle width: 8\n",
            "Enter triangle height: 4\n",
            "The cirle area is 50.24\n",
            "The retangle area is 48.00\n",
            "The triangle area is 12.00\n",
            "The total area is 110.24\n"
          ]
        }
      ],
      "source": [
        "def cirArea(radius):\n",
        "  cir_area = 3.14 * radius ** 2\n",
        "\n",
        "  return cir_area\n",
        "\n",
        "def retArea(len, wid):\n",
        "  ret_area = len * wid\n",
        "\n",
        "  return ret_area\n",
        "\n",
        "def triArea(len, hgt):\n",
        "\n",
        "  tri_area = len * hgt /2\n",
        "  return tri_area\n",
        "\n",
        "def sumArea(c_area, r_area, t_area):\n",
        "  sum = c_area + r_area + t_area\n",
        "  return sum\n",
        "\n",
        "\n",
        "r = float(input(\"Enter circle radius: \"))\n",
        "l = float(input(\"Enter length: \"))\n",
        "w = float(input(\"Enter rectangle width: \"))\n",
        "h = float(input(\"Enter triangle height: \"))\n",
        "\n",
        "cir_area = cirArea(r)\n",
        "ret_area = retArea(l, w)\n",
        "tri_area = triArea(l, h)\n",
        "\n",
        "\n",
        "\n",
        "print(f\"The cirle area is {cir_area:.2f}\")\n",
        "print(f\"The retangle area is {ret_area:.2f}\")\n",
        "print(f\"The triangle area is {tri_area:.2f}\")\n",
        "print(f\"The total area is {sumArea(cir_area, ret_area, tri_area):.2f}\")\n",
        "\n",
        "\n"
      ]
    }
  ]
}