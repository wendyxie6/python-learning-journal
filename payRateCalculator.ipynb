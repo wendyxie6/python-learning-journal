{
  "nbformat": 4,
  "nbformat_minor": 0,
  "metadata": {
    "colab": {
      "provenance": [],
      "authorship_tag": "ABX9TyPuGSsvnCoUSb3HC/t46G39",
      "include_colab_link": true
    },
    "kernelspec": {
      "name": "python3",
      "display_name": "Python 3"
    },
    "language_info": {
      "name": "python"
    }
  },
  "cells": [
    {
      "cell_type": "markdown",
      "metadata": {
        "id": "view-in-github",
        "colab_type": "text"
      },
      "source": [
        "<a href=\"https://colab.research.google.com/github/wendyxie6/python-learning-journal/blob/main/payRateCalculator.ipynb\" target=\"_parent\"><img src=\"https://colab.research.google.com/assets/colab-badge.svg\" alt=\"Open In Colab\"/></a>"
      ]
    },
    {
      "cell_type": "code",
      "execution_count": 24,
      "metadata": {
        "colab": {
          "base_uri": "https://localhost:8080/"
        },
        "id": "X5D1FcdKnQ2X",
        "outputId": "e1c02e59-1345-4951-e0b2-084bc9422dc0"
      },
      "outputs": [
        {
          "output_type": "stream",
          "name": "stdout",
          "text": [
            "What is your hourly rate: 10\n",
            "How many hours did you work this week: 45\n",
            "Daily Paid: $ 475.0\n"
          ]
        }
      ],
      "source": [
        "paid_rate = float(input(\"What is your hourly rate: \"))\n",
        "work_hr = float(input(\"How many hours did you work this week: \"))\n",
        "\n",
        "# over time hour\n",
        "ot_hr = max((work_hr - 40),0)\n",
        "\n",
        "\n",
        "reg_hr = min(40, (work_hr))\n",
        "\n",
        "paid = reg_hr * paid_rate + 1.5 * ot_hr * paid_rate\n",
        "\n",
        "print(\"Daily Paid: $\", paid)\n"
      ]
    }
  ]
}