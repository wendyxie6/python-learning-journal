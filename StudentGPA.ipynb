{
  "nbformat": 4,
  "nbformat_minor": 0,
  "metadata": {
    "colab": {
      "provenance": [],
      "authorship_tag": "ABX9TyNRb4+OS8uWfh7uMnGdc9d3",
      "include_colab_link": true
    },
    "kernelspec": {
      "name": "python3",
      "display_name": "Python 3"
    },
    "language_info": {
      "name": "python"
    }
  },
  "cells": [
    {
      "cell_type": "markdown",
      "metadata": {
        "id": "view-in-github",
        "colab_type": "text"
      },
      "source": [
        "<a href=\"https://colab.research.google.com/github/wendyxie6/python-learning-journal/blob/main/StudentGPA.ipynb\" target=\"_parent\"><img src=\"https://colab.research.google.com/assets/colab-badge.svg\" alt=\"Open In Colab\"/></a>"
      ]
    },
    {
      "cell_type": "code",
      "execution_count": 2,
      "metadata": {
        "colab": {
          "base_uri": "https://localhost:8080/"
        },
        "id": "fMTgUlmBHwKV",
        "outputId": "a227faeb-e77c-4c6f-f7b0-0881727d4f07"
      },
      "outputs": [
        {
          "name": "stdout",
          "output_type": "stream",
          "text": [
            "Enter student name: A\n",
            "Enter student ID:123\n",
            "Enter student grade: A\n",
            "Exit (y/n)n\n",
            "Enter student grade: B\n",
            "Exit (y/n)n\n",
            "Enter student grade: A\n",
            "Exit (y/n)y\n",
            "Enter student grade: C\n",
            "Exit (y/n)Y\n",
            "Name:  A ID: 123 GPA: 3.25\n",
            "Exit (y/n)y\n"
          ]
        }
      ],
      "source": [
        "class MyClass:\n",
        "    def __init__(self, name, id, grade):\n",
        "        self.name = name\n",
        "        self.id = id\n",
        "        self.grade = grade\n",
        "\n",
        "    def getGPA(self, grades):\n",
        "        total_grade = 0\n",
        "        for grade in grades:\n",
        "            total_grade += grade\n",
        "\n",
        "        std_gpa = total_grade/len(grades)\n",
        "\n",
        "        return std_gpa\n",
        "\n",
        "\n",
        "\n",
        "while True:\n",
        "    student_name  = input(\"Enter student name: \")\n",
        "    student_id = input(\"Enter student ID:\")\n",
        "    student_grade = []\n",
        "\n",
        "    while True:\n",
        "        std_grade = None\n",
        "        get_grade = input(\"Enter student grade: \")\n",
        "        if get_grade == \"A\":\n",
        "            std_grade = 4\n",
        "        elif get_grade == \"B\":\n",
        "            std_grade = 3\n",
        "        elif get_grade == \"C\":\n",
        "            std_grade = 2\n",
        "        elif get_grade == \"D\":\n",
        "            std_grade = 1\n",
        "        elif get_grade == \"F\":\n",
        "            std_grade = 0\n",
        "\n",
        "        student_grade.append(std_grade)\n",
        "        grade_exit = input(\"Exit (y/n)\")\n",
        "\n",
        "        if grade_exit == \"Y\" or exit == \"y\":\n",
        "            break\n",
        "\n",
        "    student = MyClass(student_name, student_id, student_grade)\n",
        "\n",
        "    gpa = student.getGPA(student_grade)\n",
        "    print(f\"Name:  {student_name} ID: {student_id} GPA: {gpa}\")\n",
        "\n",
        "    exit = input(\"Exit (y/n)\")\n",
        "\n",
        "    if exit == \"Y\" or exit == \"y\":\n",
        "            break\n",
        "\n",
        "\n",
        ""
      ]
    }
  ]
}