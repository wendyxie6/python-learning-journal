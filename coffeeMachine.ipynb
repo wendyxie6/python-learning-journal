{
  "nbformat": 4,
  "nbformat_minor": 0,
  "metadata": {
    "colab": {
      "provenance": [],
      "authorship_tag": "ABX9TyN/cWL+bkdxHkYC+SXYHI4e",
      "include_colab_link": true
    },
    "kernelspec": {
      "name": "python3",
      "display_name": "Python 3"
    },
    "language_info": {
      "name": "python"
    }
  },
  "cells": [
    {
      "cell_type": "markdown",
      "metadata": {
        "id": "view-in-github",
        "colab_type": "text"
      },
      "source": [
        "<a href=\"https://colab.research.google.com/github/wendyxie6/python-learning-journal/blob/main/coffeeMachine.ipynb\" target=\"_parent\"><img src=\"https://colab.research.google.com/assets/colab-badge.svg\" alt=\"Open In Colab\"/></a>"
      ]
    },
    {
      "cell_type": "code",
      "execution_count": 4,
      "metadata": {
        "colab": {
          "base_uri": "https://localhost:8080/"
        },
        "id": "OrCpd1dLGXll",
        "outputId": "7df646c1-337d-4981-825e-a2dab4ac9022"
      },
      "outputs": [
        {
          "output_type": "stream",
          "name": "stdout",
          "text": [
            "Select coffee type(espresso/cappuccino/latte): cappuccino\n",
            "Select cup size(l/m/s): m\n",
            "Your order: cappuccino, Size: M\n"
          ]
        }
      ],
      "source": [
        "def size_type():\n",
        "    size_type = input(\"Select cup size(l/m/s): \")\n",
        "\n",
        "    if size_type.lower() == \"l\" or size_type.lower() == \"m\" or size_type.lower() == \"s\":\n",
        "        return size_type.upper()\n",
        "    else:\n",
        "        return \"N\"\n",
        "\n",
        "coffee_type = input(\"Select coffee type(espresso/cappuccino/latte): \")\n",
        "\n",
        "size = size_type()\n",
        "\n",
        "if size != \"N\":\n",
        "    match coffee_type.lower():\n",
        "        case \"espresso\":\n",
        "            print(f\"Your order: {coffee_type}, Size: {size}\" )\n",
        "        case \"cappuccino\":\n",
        "            print(f\"Your order: {coffee_type}, Size: {size}\" )\n",
        "        case \"latte\":\n",
        "            print(f\"Your order: {coffee_type}, Size: {size}\" )\n",
        "        case _:\n",
        "            print(\"Enter the correct type!\")\n",
        "else:\n",
        "    print(\"Enter the correct size\")"
      ]
    }
  ]
}