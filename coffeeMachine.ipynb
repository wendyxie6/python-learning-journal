{
  "nbformat": 4,
  "nbformat_minor": 0,
  "metadata": {
    "colab": {
      "provenance": [],
      "authorship_tag": "ABX9TyOmYtiHo6tv4SU7HmjgsLuV",
      "include_colab_link": true
    },
    "kernelspec": {
      "name": "python3",
      "display_name": "Python 3"
    },
    "language_info": {
      "name": "python"
    }
  },
  "cells": [
    {
      "cell_type": "markdown",
      "metadata": {
        "id": "view-in-github",
        "colab_type": "text"
      },
      "source": [
        "<a href=\"https://colab.research.google.com/github/wendyxie6/python-learning-journal/blob/main/coffeeMachine.ipynb\" target=\"_parent\"><img src=\"https://colab.research.google.com/assets/colab-badge.svg\" alt=\"Open In Colab\"/></a>"
      ]
    },
    {
      "cell_type": "code",
      "execution_count": 5,
      "metadata": {
        "colab": {
          "base_uri": "https://localhost:8080/"
        },
        "id": "OrCpd1dLGXll",
        "outputId": "f23f57d1-59b6-48cb-a3a6-1f76eb98b49f"
      },
      "outputs": [
        {
          "output_type": "stream",
          "name": "stdout",
          "text": [
            "Select coffee type(espresso/cappuccino/latte): cappuccino\n",
            "Select cup size(l/m/s): m\n",
            "Your order: cappuccino, m\n"
          ]
        }
      ],
      "source": [
        "coffee_type = input(\"Select coffee type(espresso/cappuccino/latte): \")\n",
        "size = input(\"Select cup size(l/m/s): \")\n",
        "\n",
        "if coffee_type == \"expresso\" or coffee_type == \"cappuccino\" or coffee_type == \"latte\":\n",
        "    if size == \"l\" or size == \"m\" or size == \"s\":\n",
        "        print(f\"Your order: {coffee_type}, {size}\" )\n",
        "    else:\n",
        "        print(\"wrong size\")\n",
        "else:\n",
        "    print(\"wrong type\")"
      ]
    }
  ]
}