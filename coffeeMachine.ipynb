{
  "nbformat": 4,
  "nbformat_minor": 0,
  "metadata": {
    "colab": {
      "provenance": [],
      "authorship_tag": "ABX9TyNBpwrVFM8c1XNkPobPmneU",
      "include_colab_link": true
    },
    "kernelspec": {
      "name": "python3",
      "display_name": "Python 3"
    },
    "language_info": {
      "name": "python"
    }
  },
  "cells": [
    {
      "cell_type": "markdown",
      "metadata": {
        "id": "view-in-github",
        "colab_type": "text"
      },
      "source": [
        "<a href=\"https://colab.research.google.com/github/wendyxie6/python-learning-journal/blob/main/coffeeMachine.ipynb\" target=\"_parent\"><img src=\"https://colab.research.google.com/assets/colab-badge.svg\" alt=\"Open In Colab\"/></a>"
      ]
    },
    {
      "cell_type": "code",
      "execution_count": 6,
      "metadata": {
        "colab": {
          "base_uri": "https://localhost:8080/"
        },
        "id": "OrCpd1dLGXll",
        "outputId": "4311a80d-771b-4b19-80c8-6bdbc3112c9a"
      },
      "outputs": [
        {
          "output_type": "stream",
          "name": "stdout",
          "text": [
            "Select coffee type(espresso/cappuccino/latte): cappuccinO\n",
            "Select cup size(l/m/s): L\n",
            "Your order: cappuccinO, L\n"
          ]
        }
      ],
      "source": [
        "coffee_type = input(\"Select coffee type(espresso/cappuccino/latte): \")\n",
        "size = input(\"Select cup size(l/m/s): \")\n",
        "\n",
        "\n",
        "if coffee_type.lower() == \"expresso\" or coffee_type.lower() == \"cappuccino\" or coffee_type.lower() == \"latte\":\n",
        "    if size.lower() == \"l\" or size.lower() == \"m\" or size.lower() == \"s\":\n",
        "        print(f\"Your order: {coffee_type}, {size}\" )\n",
        "    else:\n",
        "        print(\"wrong size\")\n",
        "else:\n",
        "    print(\"wrong type\")"
      ]
    }
  ]
}