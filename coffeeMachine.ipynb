{
  "nbformat": 4,
  "nbformat_minor": 0,
  "metadata": {
    "colab": {
      "provenance": [],
      "authorship_tag": "ABX9TyNf6oP08Ew/PvJpmuxhfcKG",
      "include_colab_link": true
    },
    "kernelspec": {
      "name": "python3",
      "display_name": "Python 3"
    },
    "language_info": {
      "name": "python"
    }
  },
  "cells": [
    {
      "cell_type": "markdown",
      "metadata": {
        "id": "view-in-github",
        "colab_type": "text"
      },
      "source": [
        "<a href=\"https://colab.research.google.com/github/wendyxie6/python-learning-journal/blob/main/coffeeMachine.ipynb\" target=\"_parent\"><img src=\"https://colab.research.google.com/assets/colab-badge.svg\" alt=\"Open In Colab\"/></a>"
      ]
    },
    {
      "cell_type": "code",
      "execution_count": 13,
      "metadata": {
        "colab": {
          "base_uri": "https://localhost:8080/"
        },
        "id": "OrCpd1dLGXll",
        "outputId": "d10f9a78-cf33-4664-927b-8ca00b95587d"
      },
      "outputs": [
        {
          "output_type": "stream",
          "name": "stdout",
          "text": [
            "Select coffee type(espresso/cappuccino/latte): e\n",
            "Select cup size(l/m/s): l\n",
            "Enter correct selection!\n"
          ]
        }
      ],
      "source": [
        "coffee_type = input(\"Select coffee type(espresso/cappuccino/latte): \")\n",
        "size = input(\"Select cup size(l/m/s): \")\n",
        "\n",
        "if size.lower() == \"l\" or size.lower() == \"m\" or size.lower() == \"s\":\n",
        "    match coffee_type.lower():\n",
        "        case \"espresso\":\n",
        "            print(f\"Your order: {coffee_type}, {size.upper()}\" )\n",
        "        case \"cappuccino\":\n",
        "             print(f\"Your order: {coffee_type}, {size.upper()}\" )\n",
        "        case \"latte\":\n",
        "             print(f\"Your order: {coffee_type}, {size.upper()}\" )\n",
        "        case _:\n",
        "            print(\"Enter the correct type!\")\n",
        "else:\n",
        "    print(\"Enter the correct size\")\n",
        "\n",
        ""
      ]
    }
  ]
}