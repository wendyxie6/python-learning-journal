{
  "nbformat": 4,
  "nbformat_minor": 0,
  "metadata": {
    "colab": {
      "provenance": [],
      "authorship_tag": "ABX9TyMdvfI+t3BYt7eQ7KLNpDPU",
      "include_colab_link": true
    },
    "kernelspec": {
      "name": "python3",
      "display_name": "Python 3"
    },
    "language_info": {
      "name": "python"
    }
  },
  "cells": [
    {
      "cell_type": "markdown",
      "metadata": {
        "id": "view-in-github",
        "colab_type": "text"
      },
      "source": [
        "<a href=\"https://colab.research.google.com/github/wendyxie6/python-learning-journal/blob/main/coffeeMachine.ipynb\" target=\"_parent\"><img src=\"https://colab.research.google.com/assets/colab-badge.svg\" alt=\"Open In Colab\"/></a>"
      ]
    },
    {
      "cell_type": "code",
      "execution_count": 2,
      "metadata": {
        "colab": {
          "base_uri": "https://localhost:8080/"
        },
        "id": "OrCpd1dLGXll",
        "outputId": "c9232363-9829-4f5c-af54-79b5caebc62c"
      },
      "outputs": [
        {
          "output_type": "stream",
          "name": "stdout",
          "text": [
            "Select coffee type(espresso/cappuccino/latte): latte\n",
            "Select cup size(l/m/s): l\n",
            "Your order: latte, Size: L\n"
          ]
        }
      ],
      "source": [
        "def sizeType():\n",
        "    size_type = input(\"Select cup size(l/m/s): \")\n",
        "\n",
        "    if size_type.lower() == \"l\" or size_type.lower() == \"m\" or size_type.lower() == \"s\":\n",
        "        return size_type.upper()\n",
        "    else:\n",
        "        return None\n",
        "\n",
        "coffee_type = input(\"Select coffee type(espresso/cappuccino/latte): \")\n",
        "\n",
        "size = sizeType()\n",
        "\n",
        "if size != None:\n",
        "    match coffee_type.lower():\n",
        "        case \"espresso\":\n",
        "            print(f\"Your order: {coffee_type}, Size: {size}\" )\n",
        "        case \"cappuccino\":\n",
        "            print(f\"Your order: {coffee_type}, Size: {size}\" )\n",
        "        case \"latte\":\n",
        "            print(f\"Your order: {coffee_type}, Size: {size}\" )\n",
        "        case _:\n",
        "            print(\"Enter the correct type!\")\n",
        "else:\n",
        "    print(\"Enter the correct size\")"
      ]
    }
  ]
}