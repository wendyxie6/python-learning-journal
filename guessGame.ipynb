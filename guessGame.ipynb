{
  "nbformat": 4,
  "nbformat_minor": 0,
  "metadata": {
    "colab": {
      "provenance": [],
      "authorship_tag": "ABX9TyNjejA03d74UdkSpqrcJ6ja",
      "include_colab_link": true
    },
    "kernelspec": {
      "name": "python3",
      "display_name": "Python 3"
    },
    "language_info": {
      "name": "python"
    }
  },
  "cells": [
    {
      "cell_type": "markdown",
      "metadata": {
        "id": "view-in-github",
        "colab_type": "text"
      },
      "source": [
        "<a href=\"https://colab.research.google.com/github/wendyxie6/python-learning-journal/blob/main/guessGame.ipynb\" target=\"_parent\"><img src=\"https://colab.research.google.com/assets/colab-badge.svg\" alt=\"Open In Colab\"/></a>"
      ]
    },
    {
      "cell_type": "code",
      "execution_count": 11,
      "metadata": {
        "colab": {
          "base_uri": "https://localhost:8080/"
        },
        "id": "Ouuyft_eJF5w",
        "outputId": "d2badd67-5cca-418c-e062-8289b6e0b18e"
      },
      "outputs": [
        {
          "output_type": "stream",
          "name": "stdout",
          "text": [
            "Enter your guess number:12\n",
            "Your number 12 is too low\n",
            "Enter your guess number:34\n",
            "Your number 34 is too low\n",
            "Enter your guess number:56\n",
            "Your number 56 is too high\n",
            "Enter your guess number:40\n",
            "Your number 40 is too low\n",
            "Enter your guess number:45\n",
            "Your number 45 is too high\n",
            "Enter your guess number:43\n",
            "Your number 43 is too high\n",
            "Enter your guess number:42\n",
            "Your number 42 is too high\n",
            "Enter your guess number:41\n",
            "Congratulation, your number 41 is match\n"
          ]
        }
      ],
      "source": [
        "import random\n",
        "\n",
        "attempt = 10\n",
        "rand_num = random.randint(1,100)\n",
        "\n",
        "while attempt > 0:\n",
        "    num = int(input(\"Enter your guess number:\"))\n",
        "\n",
        "    if num < rand_num:\n",
        "        print(f\"Your number {num} is too low\")\n",
        "        attempt -= 1\n",
        "        continue\n",
        "    elif num > rand_num:\n",
        "        print(f\"Your number {num} is too high\")\n",
        "        attempt -= 1\n",
        "        continue\n",
        "    else:\n",
        "        print(f\"Congratulation, your number {num} is match\")\n",
        "        break\n",
        "\n",
        "    print(f\"Too many try, game over.... the number is {num}\")\n",
        ""
      ]
    }
  ]
}