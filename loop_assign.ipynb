{
  "nbformat": 4,
  "nbformat_minor": 0,
  "metadata": {
    "colab": {
      "provenance": [],
      "authorship_tag": "ABX9TyM1/k3fUsRDzNPT0+Qj5XyX",
      "include_colab_link": true
    },
    "kernelspec": {
      "name": "python3",
      "display_name": "Python 3"
    },
    "language_info": {
      "name": "python"
    }
  },
  "cells": [
    {
      "cell_type": "markdown",
      "metadata": {
        "id": "view-in-github",
        "colab_type": "text"
      },
      "source": [
        "<a href=\"https://colab.research.google.com/github/wendyxie6/python-learning-journal/blob/main/loop_assign.ipynb\" target=\"_parent\"><img src=\"https://colab.research.google.com/assets/colab-badge.svg\" alt=\"Open In Colab\"/></a>"
      ]
    },
    {
      "cell_type": "code",
      "execution_count": 4,
      "metadata": {
        "colab": {
          "base_uri": "https://localhost:8080/"
        },
        "id": "0NqKzjC6yUdE",
        "outputId": "9e32ba1e-9c52-4934-d6e1-fffd11674e44"
      },
      "outputs": [
        {
          "output_type": "stream",
          "name": "stdout",
          "text": [
            "What type of coffee do you want(Ethiopian/Kona/Colombian): Kona\n",
            "How many cup(lim): 2\n",
            "Coffee: Kona Number: 2\n"
          ]
        }
      ],
      "source": [
        "correctCoffee = False\n",
        "\n",
        "while not correctCoffee:\n",
        "    coffeeChoice = input(\"What type of coffee do you want(Ethiopian/Kona/Colombian): \")\n",
        "    order_num = int(input(\"How many cup(limit 10): \"))\n",
        "\n",
        "    if order_num > 0 or order_num < 10:\n",
        "        if coffeeChoice == \"Ethiopian\" or coffeeChoice == \"Kona\" or coffeeChoice == \"Colombian\":\n",
        "           print(f\"Coffee: {coffeeChoice} Number: {order_num}\")\n",
        "           correctCoffee = True\n",
        "        else:\n",
        "           print(\"Select correct coffee type\")\n",
        "           correctCoffee = False\n",
        "    else:\n",
        "        print(\"Enter correct order number\")\n",
        "        break\n",
        "\n"
      ]
    }
  ]
}