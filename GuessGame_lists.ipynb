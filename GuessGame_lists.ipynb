{
  "nbformat": 4,
  "nbformat_minor": 0,
  "metadata": {
    "colab": {
      "provenance": [],
      "authorship_tag": "ABX9TyNLzrciWUHlYXBw5eI9z9v2",
      "include_colab_link": true
    },
    "kernelspec": {
      "name": "python3",
      "display_name": "Python 3"
    },
    "language_info": {
      "name": "python"
    }
  },
  "cells": [
    {
      "cell_type": "markdown",
      "metadata": {
        "id": "view-in-github",
        "colab_type": "text"
      },
      "source": [
        "<a href=\"https://colab.research.google.com/github/wendyxie6/python-learning-journal/blob/main/GuessGame_lists.ipynb\" target=\"_parent\"><img src=\"https://colab.research.google.com/assets/colab-badge.svg\" alt=\"Open In Colab\"/></a>"
      ]
    },
    {
      "cell_type": "code",
      "execution_count": 2,
      "metadata": {
        "colab": {
          "base_uri": "https://localhost:8080/"
        },
        "id": "pIxgmok792TI",
        "outputId": "0a80e24e-2cde-4757-e01d-cbacbdd0a012"
      },
      "outputs": [
        {
          "output_type": "stream",
          "name": "stdout",
          "text": [
            "Enter your guess number:30\n",
            "Your number 30 is too high\n",
            "Enter your guess number:20\n",
            "Your number 20 is too high\n",
            "Enter your guess number:20\n",
            "You already try this number. Try again!\n",
            "Enter your guess number:15\n",
            "Your number 15 is too low\n",
            "Enter your guess number:17\n",
            "Your number 17 is too low\n",
            "Enter your guess number:18\n",
            "Congratulation, your number 18 is match\n",
            "[30, 20, 15, 17, 18]\n"
          ]
        }
      ],
      "source": [
        "import random\n",
        "# Check whether there is duplicated guess\n",
        "def checkList(arr,guess):\n",
        "    for item in arr:\n",
        "        if item == guess:\n",
        "            print(f\"You already try this number. Try again!\")\n",
        "            return True\n",
        "    return False\n",
        "\n",
        "# Total 10 guess allowed\n",
        "attempt = 10\n",
        "\n",
        "rand_num = random.randint(1,100)\n",
        "\n",
        "guess_list=[]\n",
        "\n",
        "while attempt > 0:\n",
        "    num = int(input(\"Enter your guess number:\"))\n",
        "\n",
        "    # Check whether the number has been used\n",
        "    if checkList(guess_list, num) == False:\n",
        "        guess_list.append(num)\n",
        "    else:\n",
        "        continue\n",
        "\n",
        "    # Check the guess number\n",
        "    if num < rand_num:\n",
        "        print(f\"Your number {num} is too low\")\n",
        "        attempt -= 1\n",
        "        continue\n",
        "    elif num > rand_num:\n",
        "        print(f\"Your number {num} is too high\")\n",
        "        attempt -= 1\n",
        "        continue\n",
        "    else:\n",
        "        print(f\"Congratulation, your number {num} is match\")\n",
        "        print(guess_list)\n",
        "        break\n",
        "\n",
        "    print(f\"Too many try, game over.... the number is {num}\")"
      ]
    }
  ]
}