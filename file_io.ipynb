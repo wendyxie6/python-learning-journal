{
  "nbformat": 4,
  "nbformat_minor": 0,
  "metadata": {
    "colab": {
      "provenance": [],
      "authorship_tag": "ABX9TyO7FrTCf3ucz9qCnh1oQ291",
      "include_colab_link": true
    },
    "kernelspec": {
      "name": "python3",
      "display_name": "Python 3"
    },
    "language_info": {
      "name": "python"
    }
  },
  "cells": [
    {
      "cell_type": "markdown",
      "metadata": {
        "id": "view-in-github",
        "colab_type": "text"
      },
      "source": [
        "<a href=\"https://colab.research.google.com/github/wendyxie6/python-learning-journal/blob/main/file_io.ipynb\" target=\"_parent\"><img src=\"https://colab.research.google.com/assets/colab-badge.svg\" alt=\"Open In Colab\"/></a>"
      ]
    },
    {
      "cell_type": "code",
      "execution_count": 34,
      "metadata": {
        "id": "7X_7jel6HQkq"
      },
      "outputs": [],
      "source": [
        "path = \"week3_lab.txt\"\n",
        "\n",
        "file = open(path, \"r\")\n",
        "line1 = file.readline().strip()\n",
        "line2 = file.readline().strip()\n",
        "line3 = file.readline().strip()\n",
        "line4 = file.readline().strip()\n",
        "file.close()\n",
        "\n",
        "story = line1 + line2 + line3 + line4\n",
        "\n",
        "#open a new file in write mode\n",
        "#write story to the file\n",
        "#close the file\n",
        "file1 = open(path, \"a\")\n",
        "line4 = \"\\n\" + story + \"End\"\n",
        "\n",
        "file1.write(line4)\n",
        "\n",
        "file1.close()\n",
        "\n"
      ]
    }
  ]
}