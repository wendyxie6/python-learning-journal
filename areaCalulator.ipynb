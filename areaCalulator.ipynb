{
  "nbformat": 4,
  "nbformat_minor": 0,
  "metadata": {
    "colab": {
      "provenance": [],
      "authorship_tag": "ABX9TyOP7WuqC0cxnyBPL5n6puat",
      "include_colab_link": true
    },
    "kernelspec": {
      "name": "python3",
      "display_name": "Python 3"
    },
    "language_info": {
      "name": "python"
    }
  },
  "cells": [
    {
      "cell_type": "markdown",
      "metadata": {
        "id": "view-in-github",
        "colab_type": "text"
      },
      "source": [
        "<a href=\"https://colab.research.google.com/github/wendyxie6/python-learning-journal/blob/main/areaCalulator.ipynb\" target=\"_parent\"><img src=\"https://colab.research.google.com/assets/colab-badge.svg\" alt=\"Open In Colab\"/></a>"
      ]
    },
    {
      "cell_type": "code",
      "execution_count": 5,
      "metadata": {
        "colab": {
          "base_uri": "https://localhost:8080/"
        },
        "id": "0Kum9tqZBx1k",
        "outputId": "251e9e3c-85ca-4436-ea3e-5b7da2d5dd8a"
      },
      "outputs": [
        {
          "output_type": "stream",
          "name": "stdout",
          "text": [
            "Enter circle radius: 6\n",
            "Enter length: 7\n",
            "Enter rectangle width: 8\n",
            "Enter triangle height: 9\n",
            "The cirle area is 113.04\n",
            "The retangle area is 56.00\n",
            "The triangle area is 31.50\n",
            "The total area is 200.54\n"
          ]
        }
      ],
      "source": [
        "def cirArea(radius):\n",
        "  cir_area = 3.14 * radius ** 2\n",
        "\n",
        "  return cir_area\n",
        "\n",
        "def retArea(len, wid):\n",
        "  ret_area = len * wid\n",
        "\n",
        "  return ret_area\n",
        "\n",
        "def triArea(len, hgt):\n",
        "\n",
        "  tri_area = len * hgt /2\n",
        "  return tri_area\n",
        "\n",
        "r = float(input(\"Enter circle radius: \"))\n",
        "l = float(input(\"Enter length: \"))\n",
        "w = float(input(\"Enter rectangle width: \"))\n",
        "h = float(input(\"Enter triangle height: \"))\n",
        "\n",
        "cir_area = cirArea(r)\n",
        "ret_area = retArea(l, w)\n",
        "tri_area = triArea(l, h)\n",
        "\n",
        "print(f\"The cirle area is {cir_area:.2f}\")\n",
        "print(f\"The retangle area is {ret_area:.2f}\")\n",
        "print(f\"The triangle area is {tri_area:.2f}\")\n",
        "print(f\"The total area is {sum((cir_area, ret_area, tri_area)):.2f}\")\n",
        "\n",
        "\n",
        "\n"
      ]
    }
  ]
}