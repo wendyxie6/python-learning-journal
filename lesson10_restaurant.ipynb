{
  "nbformat": 4,
  "nbformat_minor": 0,
  "metadata": {
    "colab": {
      "provenance": [],
      "authorship_tag": "ABX9TyMjvVSEnv1yPLNbBNfZbapx",
      "include_colab_link": true
    },
    "kernelspec": {
      "name": "python3",
      "display_name": "Python 3"
    },
    "language_info": {
      "name": "python"
    }
  },
  "cells": [
    {
      "cell_type": "markdown",
      "metadata": {
        "id": "view-in-github",
        "colab_type": "text"
      },
      "source": [
        "<a href=\"https://colab.research.google.com/github/wendyxie6/python-learning-journal/blob/main/lesson10_restaurant.ipynb\" target=\"_parent\"><img src=\"https://colab.research.google.com/assets/colab-badge.svg\" alt=\"Open In Colab\"/></a>"
      ]
    },
    {
      "cell_type": "code",
      "execution_count": 4,
      "metadata": {
        "colab": {
          "base_uri": "https://localhost:8080/"
        },
        "id": "4D8151v1-Lrw",
        "outputId": "01cb54fc-c00c-4667-ab10-1d4e359b96a1"
      },
      "outputs": [
        {
          "output_type": "stream",
          "name": "stdout",
          "text": [
            "Final price for Jeff is $64\n"
          ]
        }
      ],
      "source": [
        "class MenuItem:\n",
        "    def __init__(self, name, price, qty, customization):\n",
        "        self.name = name\n",
        "        self.price = price\n",
        "        self.qty = qty\n",
        "        self.customization = customization\n",
        "\n",
        "    def delivery(self):\n",
        "        print(\"check customization: \")\n",
        "        for customize in self.customization:\n",
        "            print(customize)\n",
        "\n",
        "\n",
        "\n",
        "class Tab:\n",
        "    def __init__(self, customer, table_number, orders):\n",
        "        self.customer = customer\n",
        "        self.t_number = table_number\n",
        "        self.orders = orders\n",
        "        self.total = self.calculateTotal()\n",
        "\n",
        "    def addItem(self, mItem):\n",
        "        self.orders.append(mItem)\n",
        "        self.total = self.calculateTotal()\n",
        "\n",
        "    def calculateTotal(self):\n",
        "        sum = 0\n",
        "\n",
        "        for item in self.orders:\n",
        "            sum += item.price * item.qty\n",
        "\n",
        "        return sum\n",
        "\n",
        "item1 = MenuItem(\"escargo\", 22, 1, [\"gluten free\", \"extra butter\"])\n",
        "item2 = MenuItem(\"cheese\", 14, 2, [])\n",
        "item3 = MenuItem(\"cheesecake\", 14, 1, [\"vanilla icecream\"])\n",
        "\n",
        "myTab = Tab(\"Jeff\", 2, [item1, item2])\n",
        "myTab.addItem(item3)\n",
        "\n",
        "print(f\"Final price for {myTab.customer} is ${myTab.total}\")\n",
        "\n",
        "#item1.delivery()\n"
      ]
    }
  ]
}