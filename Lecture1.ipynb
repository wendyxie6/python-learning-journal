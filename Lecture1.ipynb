{
  "nbformat": 4,
  "nbformat_minor": 0,
  "metadata": {
    "colab": {
      "provenance": [],
      "authorship_tag": "ABX9TyNjq/ADHCnFg3Vn5PX+rghP",
      "include_colab_link": true
    },
    "kernelspec": {
      "name": "python3",
      "display_name": "Python 3"
    },
    "language_info": {
      "name": "python"
    }
  },
  "cells": [
    {
      "cell_type": "markdown",
      "metadata": {
        "id": "view-in-github",
        "colab_type": "text"
      },
      "source": [
        "<a href=\"https://colab.research.google.com/github/wendyxie6/python-learning-journal/blob/main/Lecture1.ipynb\" target=\"_parent\"><img src=\"https://colab.research.google.com/assets/colab-badge.svg\" alt=\"Open In Colab\"/></a>"
      ]
    },
    {
      "cell_type": "code",
      "execution_count": 11,
      "metadata": {
        "colab": {
          "base_uri": "https://localhost:8080/"
        },
        "id": "iV9kaEGVEgg-",
        "outputId": "279c799a-ed79-436e-b413-04322c3016dc"
      },
      "outputs": [
        {
          "output_type": "stream",
          "name": "stdout",
          "text": [
            "Jane Doe Total:  96.0 %\n"
          ]
        }
      ],
      "source": [
        "studentName = \"Jane Doe\"\n",
        "disc = 80\n",
        "quz = 100\n",
        "ptcpt = 90\n",
        "hwkLab = 95\n",
        "exam = 100\n",
        "\n",
        "print (studentName, \"Total: \", (disc * 10 + quz * 20 + ptcpt * 5 + hwkLab *30 + exam *35)/100, \"%\")"
      ]
    }
  ]
}