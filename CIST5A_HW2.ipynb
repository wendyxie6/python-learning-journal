{
  "cells": [
    {
      "cell_type": "markdown",
      "metadata": {
        "id": "view-in-github",
        "colab_type": "text"
      },
      "source": [
        "<a href=\"https://colab.research.google.com/github/wendyxie6/python-learning-journal/blob/main/CIST5A_HW2.ipynb\" target=\"_parent\"><img src=\"https://colab.research.google.com/assets/colab-badge.svg\" alt=\"Open In Colab\"/></a>"
      ]
    },
    {
      "cell_type": "markdown",
      "id": "09753275",
      "metadata": {
        "id": "09753275"
      },
      "source": [
        "### Problem 1: Personalized Greeting\n",
        "Write a function called `miniMadLib` that takes three arguments `noun`, `verb`, and `adjective` and combines them to print out a one sentence madlib."
      ]
    },
    {
      "cell_type": "code",
      "execution_count": 2,
      "id": "ddf2e45a",
      "metadata": {
        "id": "ddf2e45a",
        "colab": {
          "base_uri": "https://localhost:8080/"
        },
        "outputId": "2b20cce0-de4b-4e90-d1f4-6a2481f19711"
      },
      "outputs": [
        {
          "output_type": "stream",
          "name": "stdout",
          "text": [
            "Enter a noun: Dog\n",
            "Enter a verb: jumps\n",
            "Enter a adjective: crazy\n",
            "Dog jumps crazy\n"
          ]
        }
      ],
      "source": [
        "def miniMadLib(noun, verb, adj):\n",
        "  print(noun + \" \" + verb + \" \" + adj)\n",
        "\n",
        "noun = input(\"Enter a noun: \")\n",
        "verb = input(\"Enter a verb: \")\n",
        "adj = input(\"Enter a adjective: \")\n",
        "\n",
        "miniMadLib(noun, verb, adj)\n",
        ""
      ]
    },
    {
      "cell_type": "markdown",
      "id": "b4cea3d8",
      "metadata": {
        "id": "b4cea3d8"
      },
      "source": [
        "### Problem 2: Calculate the Volume of a Cylinder\n",
        "Write a function called `calculateCylinderVolume` that takes the radius and height of a cylinder and returns its internal volume. Use the built in math constant for pi."
      ]
    },
    {
      "cell_type": "code",
      "execution_count": 4,
      "id": "024d5340",
      "metadata": {
        "id": "024d5340",
        "colab": {
          "base_uri": "https://localhost:8080/"
        },
        "outputId": "015335cb-89ba-4b6a-f069-03430088ecf9"
      },
      "outputs": [
        {
          "output_type": "stream",
          "name": "stdout",
          "text": [
            "Enter radius: 6\n",
            "Enter height: 9\n",
            "The cylinder volumn is: 1017.88\n"
          ]
        }
      ],
      "source": [
        "import math\n",
        "\n",
        "def calculateCylinderVolume(r, h):\n",
        "  # Calculate the volume of the cylinder\n",
        "  vol = (math.pi * r**2) * h\n",
        "\n",
        "  return vol\n",
        "\n",
        "radius = float(input(\"Enter radius: \"))\n",
        "hgt = float(input(\"Enter height: \"))\n",
        "\n",
        "print(f\"The cylinder volumn is: {calculateCylinderVolume(radius, hgt):.2f}\")"
      ]
    },
    {
      "cell_type": "markdown",
      "id": "92c72848",
      "metadata": {
        "id": "92c72848"
      },
      "source": [
        "### Problem 3: File Reader\n",
        "Write a function called `fileWiper` that takes in a file path and stores the content of the file in a string before wiping the file blank and returning the stored string."
      ]
    },
    {
      "cell_type": "code",
      "execution_count": 10,
      "id": "0ec2ccdd",
      "metadata": {
        "id": "0ec2ccdd",
        "colab": {
          "base_uri": "https://localhost:8080/"
        },
        "outputId": "41417a24-4736-4656-efbd-3c3669e8dd62"
      },
      "outputs": [
        {
          "output_type": "stream",
          "name": "stdout",
          "text": [
            "Write a function called fileWiper that takes in a file path and stores the content of the file in a string before wiping the file blank and returning the stored string.\n"
          ]
        }
      ],
      "source": [
        "def fileWiper(path):\n",
        "  # Read file content\n",
        "  file = open(path, \"r\")\n",
        "  content = file.read()\n",
        "\n",
        "  # Wiping the file\n",
        "  file = open(path,\"w\")\n",
        "  file.write(\"\")\n",
        "\n",
        "  file.close()\n",
        "\n",
        "  return content\n",
        "\n",
        "file_path = \"homework2.txt\"\n",
        "\n",
        "print(fileWiper(file_path))\n",
        "\n",
        "\n"
      ]
    }
  ],
  "metadata": {
    "colab": {
      "provenance": [],
      "include_colab_link": true
    },
    "language_info": {
      "name": "python"
    },
    "kernelspec": {
      "name": "python3",
      "display_name": "Python 3"
    }
  },
  "nbformat": 4,
  "nbformat_minor": 5
}