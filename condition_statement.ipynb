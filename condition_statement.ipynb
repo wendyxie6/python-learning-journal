{
  "nbformat": 4,
  "nbformat_minor": 0,
  "metadata": {
    "colab": {
      "provenance": [],
      "authorship_tag": "ABX9TyMXV+TaPLpEWCGJcCI6aGq4",
      "include_colab_link": true
    },
    "kernelspec": {
      "name": "python3",
      "display_name": "Python 3"
    },
    "language_info": {
      "name": "python"
    }
  },
  "cells": [
    {
      "cell_type": "markdown",
      "metadata": {
        "id": "view-in-github",
        "colab_type": "text"
      },
      "source": [
        "<a href=\"https://colab.research.google.com/github/wendyxie6/python-learning-journal/blob/main/condition_statement.ipynb\" target=\"_parent\"><img src=\"https://colab.research.google.com/assets/colab-badge.svg\" alt=\"Open In Colab\"/></a>"
      ]
    },
    {
      "cell_type": "code",
      "execution_count": 3,
      "metadata": {
        "colab": {
          "base_uri": "https://localhost:8080/"
        },
        "id": "e9rk6qq5Ngac",
        "outputId": "ea41288d-3d20-49bd-d6a8-6b64cab36329"
      },
      "outputs": [
        {
          "output_type": "stream",
          "name": "stdout",
          "text": [
            "Who will take care of dog: dogsitter\n",
            "very detail information\n"
          ]
        }
      ],
      "source": [
        "person = input(\"Who will take care of dog: \")\n",
        "\n",
        "if person.lower() ==  \"sister\" or person.lower() == \"brother\":\n",
        "    print(f\"{person} no instruction\")\n",
        "elif (person.lower() == \"friend\"):\n",
        "    print(f\"{person} need some instruction\")\n",
        "else:\n",
        "    print(\"Need very detail information\")\n"
      ]
    }
  ]
}